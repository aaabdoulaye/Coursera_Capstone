{
 "cells": [
  {
   "cell_type": "markdown",
   "metadata": {},
   "source": [
    "<h2 style='color:blue'> Neighborhoods in London and Singapore </h2>"
   ]
  },
  {
   "cell_type": "markdown",
   "metadata": {},
   "source": [
    "<h3 style =\"color:blue\">  Presentation </h3>\n",
    "<p style='text-align: justify;font-family:Arial;'>A financial center, or a financial hub, refers to a city with a strategic location, leading financial institutions, reputed stock exchanges, a dense concentration of public and private banks and trading and insurance companies. In addition, these hubs are equipped with first-class infrastructure, communications, and commercial systems, and there is a transparent and sound legal and regulatory regime backed by a stable political system. Such cities are favorable destinations for professionals because of the high living standards they offer along with immense growth opportunities. </p>\n",
    "\n",
    "<p style='text-align: justify; font-family:Arial;'> Since the middle ages, London has been one of the most prominent trade and business centers. The city is one of the most visited places on earth and is among the most preferred places to do business.\n",
    "From a business perspective, Singapore's attractiveness lies in its transparent and sound legal framework complementing its economic and political stability. The small island located in the Southeast Asia region has emerged as one of the Four Asian Tigers and established itself as a major financial center. \n",
    "These two cities belong to different continent. One to Europe and the second to Asia. In our study we will compare neighborhood of both cities and tell how similar or dissimilar they are. </p>\n"
   ]
  },
  {
   "cell_type": "markdown",
   "metadata": {},
   "source": [
    "<h3 style='color:blue'> Data </h3>"
   ]
  },
  {
   "cell_type": "markdown",
   "metadata": {},
   "source": [
    "<span style='font-size:16px;font-family:Arial;'>To Accomplish this study, we will use foursquare location to get all venues of each city. We will categorize venue on each city to see how theses city are similar or dissimilar. We will need:\n",
    "    \n",
    "1. London’s geolocation,\n",
    "2. Singapore geolocation,\n",
    "3. Foursquare venues of each city. Each venue will be categorized and shown in a map. \n",
    "4. Venue name, description and category\n",
    "    \n",
    "We will take the most frequent venue category in each scity such as restaurant, park, coffee, shopping. \n",
    "We will filter our neighborhood data frame to theses category venue and show in a map each category with a different color using folium. </span>\n"
   ]
  },
  {
   "cell_type": "markdown",
   "metadata": {},
   "source": [
    "<h3 style=\"color:blue\">Methodology</h3>"
   ]
  },
  {
   "cell_type": "markdown",
   "metadata": {},
   "source": [
    "<p style='font-family:Arial;'>After creating a foursquare account and getting our credentials we have to get London center geolocation and Singapore center geolocation. We will put this  in two dictionaries with other information like area.</p>\n",
    "<p style='font-family:Arial;'> The second step is to get neighborhood for each city using foursquare APIs. The result we be convert as a data frame showing all venues information’s for each city. \n",
    "London data </p>\n"
   ]
  },
  {
   "cell_type": "markdown",
   "metadata": {},
   "source": [
    "<p style='font-family:Arial;'> Let's start by import required libraries such as pandas, folium numpy for manipulating data </p>"
   ]
  },
  {
   "cell_type": "code",
   "execution_count": 50,
   "metadata": {},
   "outputs": [
    {
     "name": "stderr",
     "output_type": "stream",
     "text": [
      "Matplotlib is building the font cache; this may take a moment.\n"
     ]
    }
   ],
   "source": [
    "import requests\n",
    "import pandas as pd\n",
    "import numpy as np \n",
    "from geopy.geocoders import Nominatim \n",
    "from pandas.io.json import json_normalize\n",
    "import folium\n",
    "import matplotlib.pyplot as plt"
   ]
  },
  {
   "cell_type": "markdown",
   "metadata": {},
   "source": [
    "<p style='font-family:Arial;'> We will use foursquare location to get the venues of each both cities ( london and singapore). For that we have to define our client ID, client secret, version and we will set our limit to 10000 to get the maximum of venues as possible </p>"
   ]
  },
  {
   "cell_type": "code",
   "execution_count": 4,
   "metadata": {},
   "outputs": [],
   "source": [
    "CLIENT_ID = '2H10FWYDICOAXYJG4L12GWGGHEEONBL4QO2PWWQTJPBIKR2N' \n",
    "CLIENT_SECRET = 'P5FBRASTRXIXJFO35XSDXELN0AAUSO2TV03WDMMSWAZXRB35' \n",
    "VERSION = '20180604'\n",
    "LIMIT = 10000"
   ]
  },
  {
   "cell_type": "markdown",
   "metadata": {},
   "source": [
    "<p style='font-family:Arial;'>The next step is create a dictionnary for each cities. Each dictionnary will contains latitute, longitude and area of ach cities </p> \n",
    "<p style='font-family:Arial;'> We will use area data to cover all area of city when using foursquare API</p>"
   ]
  },
  {
   "cell_type": "code",
   "execution_count": 5,
   "metadata": {},
   "outputs": [],
   "source": [
    "london_geo = {'lat':51.509865, 'lng':-0.118092,'area': 1572}\n",
    "singapor_geo = {'lat':1.290270, 'lng':103.851959, 'area': 721.5}\n",
    "area = 105.4"
   ]
  },
  {
   "cell_type": "markdown",
   "metadata": {},
   "source": [
    "<p style='font-family:Arial;'> Now let set the foursquare url for each cities that call the api and retrieve venues </p>"
   ]
  },
  {
   "cell_type": "code",
   "execution_count": 6,
   "metadata": {},
   "outputs": [],
   "source": [
    "url_london = 'https://api.foursquare.com/v2/venues/explore?client_id={}&client_secret={}&ll={},{}&v={}&radius={}&limit={}'.format(CLIENT_ID, CLIENT_SECRET, london_geo['lat'], london_geo['lng'], VERSION, london_geo['area'], LIMIT)\n",
    "url_singapor = 'https://api.foursquare.com/v2/venues/explore?client_id={}&client_secret={}&ll={},{}&v={}&radius={}&limit={}'.format(CLIENT_ID, CLIENT_SECRET, singapor_geo['lat'], singapor_geo['lng'], VERSION, singapor_geo['area'], LIMIT)"
   ]
  },
  {
   "cell_type": "markdown",
   "metadata": {},
   "source": [
    "<p style='font-family:Arial;'> Call the url with the requests library and get the result as json format</p>\n"
   ]
  },
  {
   "cell_type": "code",
   "execution_count": 7,
   "metadata": {},
   "outputs": [],
   "source": [
    "london_result = requests.get(url_london).json()\n",
    "singapor_result = requests.get(url_singapor).json()"
   ]
  },
  {
   "cell_type": "markdown",
   "metadata": {},
   "source": [
    "<p style='font-family:Arial;'>When getting the response at this step we just need to retrieve the venues information of each city.</p> \n"
   ]
  },
  {
   "cell_type": "code",
   "execution_count": 8,
   "metadata": {},
   "outputs": [],
   "source": [
    "london_venues = [venues['venue'] for venues in london_result['response']['groups'][0]['items']]\n",
    "singapor_venues = [venues['venue'] for venues in singapor_result['response']['groups'][0]['items']]"
   ]
  },
  {
   "cell_type": "markdown",
   "metadata": {},
   "source": [
    "<p style='font-family:Arial;'> Now we have our result let transform it in a pandas dataframe with json_normalize method </p>"
   ]
  },
  {
   "cell_type": "code",
   "execution_count": 9,
   "metadata": {},
   "outputs": [
    {
     "name": "stderr",
     "output_type": "stream",
     "text": [
      "/usr/local/lib/python3.7/site-packages/ipykernel_launcher.py:1: FutureWarning: pandas.io.json.json_normalize is deprecated, use pandas.json_normalize instead\n",
      "  \"\"\"Entry point for launching an IPython kernel.\n"
     ]
    },
    {
     "data": {
      "text/html": [
       "<div>\n",
       "<style scoped>\n",
       "    .dataframe tbody tr th:only-of-type {\n",
       "        vertical-align: middle;\n",
       "    }\n",
       "\n",
       "    .dataframe tbody tr th {\n",
       "        vertical-align: top;\n",
       "    }\n",
       "\n",
       "    .dataframe thead th {\n",
       "        text-align: right;\n",
       "    }\n",
       "</style>\n",
       "<table border=\"1\" class=\"dataframe\">\n",
       "  <thead>\n",
       "    <tr style=\"text-align: right;\">\n",
       "      <th></th>\n",
       "      <th>id</th>\n",
       "      <th>name</th>\n",
       "      <th>categories</th>\n",
       "      <th>location.address</th>\n",
       "      <th>location.lat</th>\n",
       "      <th>location.lng</th>\n",
       "      <th>location.labeledLatLngs</th>\n",
       "      <th>location.distance</th>\n",
       "      <th>location.postalCode</th>\n",
       "      <th>location.cc</th>\n",
       "      <th>...</th>\n",
       "      <th>location.country</th>\n",
       "      <th>location.formattedAddress</th>\n",
       "      <th>photos.count</th>\n",
       "      <th>photos.groups</th>\n",
       "      <th>venuePage.id</th>\n",
       "      <th>location.crossStreet</th>\n",
       "      <th>location.neighborhood</th>\n",
       "      <th>events.count</th>\n",
       "      <th>events.summary</th>\n",
       "      <th>events.items</th>\n",
       "    </tr>\n",
       "  </thead>\n",
       "  <tbody>\n",
       "    <tr>\n",
       "      <th>0</th>\n",
       "      <td>4ac518cff964a52063a620e3</td>\n",
       "      <td>Somerset House</td>\n",
       "      <td>[{'id': '4bf58dd8d48988d171941735', 'name': 'E...</td>\n",
       "      <td>Strand</td>\n",
       "      <td>51.510786</td>\n",
       "      <td>-0.117899</td>\n",
       "      <td>[{'label': 'display', 'lat': 51.51078575130956...</td>\n",
       "      <td>103</td>\n",
       "      <td>WC2R 1LA</td>\n",
       "      <td>GB</td>\n",
       "      <td>...</td>\n",
       "      <td>United Kingdom</td>\n",
       "      <td>[Strand, London, Greater London, WC2R 1LA, Uni...</td>\n",
       "      <td>0</td>\n",
       "      <td>[]</td>\n",
       "      <td>45884508</td>\n",
       "      <td>NaN</td>\n",
       "      <td>NaN</td>\n",
       "      <td>NaN</td>\n",
       "      <td>NaN</td>\n",
       "      <td>NaN</td>\n",
       "    </tr>\n",
       "    <tr>\n",
       "      <th>1</th>\n",
       "      <td>4c6950702c29d13ab5d50a41</td>\n",
       "      <td>The Savoy Hotel</td>\n",
       "      <td>[{'id': '4bf58dd8d48988d1fa931735', 'name': 'H...</td>\n",
       "      <td>Strand</td>\n",
       "      <td>51.510448</td>\n",
       "      <td>-0.120876</td>\n",
       "      <td>[{'label': 'display', 'lat': 51.51044776531987...</td>\n",
       "      <td>203</td>\n",
       "      <td>WC2R 0EU</td>\n",
       "      <td>GB</td>\n",
       "      <td>...</td>\n",
       "      <td>United Kingdom</td>\n",
       "      <td>[Strand (Savoy St), London, Greater London, WC...</td>\n",
       "      <td>0</td>\n",
       "      <td>[]</td>\n",
       "      <td>NaN</td>\n",
       "      <td>Savoy St</td>\n",
       "      <td>NaN</td>\n",
       "      <td>NaN</td>\n",
       "      <td>NaN</td>\n",
       "      <td>NaN</td>\n",
       "    </tr>\n",
       "    <tr>\n",
       "      <th>2</th>\n",
       "      <td>4bad083df964a52078263be3</td>\n",
       "      <td>Lyceum Theatre</td>\n",
       "      <td>[{'id': '4bf58dd8d48988d137941735', 'name': 'T...</td>\n",
       "      <td>21 Wellington St</td>\n",
       "      <td>51.511598</td>\n",
       "      <td>-0.119785</td>\n",
       "      <td>[{'label': 'display', 'lat': 51.51159771114791...</td>\n",
       "      <td>225</td>\n",
       "      <td>WC2E 7DA</td>\n",
       "      <td>GB</td>\n",
       "      <td>...</td>\n",
       "      <td>United Kingdom</td>\n",
       "      <td>[21 Wellington St, London, Greater London, WC2...</td>\n",
       "      <td>0</td>\n",
       "      <td>[]</td>\n",
       "      <td>42261411</td>\n",
       "      <td>NaN</td>\n",
       "      <td>NaN</td>\n",
       "      <td>NaN</td>\n",
       "      <td>NaN</td>\n",
       "      <td>NaN</td>\n",
       "    </tr>\n",
       "    <tr>\n",
       "      <th>3</th>\n",
       "      <td>4b9e3908f964a520f6d236e3</td>\n",
       "      <td>Victoria Embankment Gardens</td>\n",
       "      <td>[{'id': '4bf58dd8d48988d15a941735', 'name': 'G...</td>\n",
       "      <td>Victoria Embankment</td>\n",
       "      <td>51.508135</td>\n",
       "      <td>-0.122079</td>\n",
       "      <td>[{'label': 'display', 'lat': 51.50813522335623...</td>\n",
       "      <td>336</td>\n",
       "      <td>NaN</td>\n",
       "      <td>GB</td>\n",
       "      <td>...</td>\n",
       "      <td>United Kingdom</td>\n",
       "      <td>[Victoria Embankment (btwn Villiers St &amp; Savoy...</td>\n",
       "      <td>0</td>\n",
       "      <td>[]</td>\n",
       "      <td>53401191</td>\n",
       "      <td>btwn Villiers St &amp; Savoy St</td>\n",
       "      <td>NaN</td>\n",
       "      <td>NaN</td>\n",
       "      <td>NaN</td>\n",
       "      <td>NaN</td>\n",
       "    </tr>\n",
       "    <tr>\n",
       "      <th>4</th>\n",
       "      <td>4ac7a2caf964a520adb820e3</td>\n",
       "      <td>National Theatre</td>\n",
       "      <td>[{'id': '4bf58dd8d48988d137941735', 'name': 'T...</td>\n",
       "      <td>Upper Ground</td>\n",
       "      <td>51.507376</td>\n",
       "      <td>-0.114793</td>\n",
       "      <td>[{'label': 'display', 'lat': 51.50737580946016...</td>\n",
       "      <td>359</td>\n",
       "      <td>SE1 9PX</td>\n",
       "      <td>GB</td>\n",
       "      <td>...</td>\n",
       "      <td>United Kingdom</td>\n",
       "      <td>[Upper Ground, London, Greater London, SE1 9PX...</td>\n",
       "      <td>0</td>\n",
       "      <td>[]</td>\n",
       "      <td>NaN</td>\n",
       "      <td>NaN</td>\n",
       "      <td>South Ban</td>\n",
       "      <td>NaN</td>\n",
       "      <td>NaN</td>\n",
       "      <td>NaN</td>\n",
       "    </tr>\n",
       "  </tbody>\n",
       "</table>\n",
       "<p>5 rows × 22 columns</p>\n",
       "</div>"
      ],
      "text/plain": [
       "                         id                         name  \\\n",
       "0  4ac518cff964a52063a620e3               Somerset House   \n",
       "1  4c6950702c29d13ab5d50a41              The Savoy Hotel   \n",
       "2  4bad083df964a52078263be3               Lyceum Theatre   \n",
       "3  4b9e3908f964a520f6d236e3  Victoria Embankment Gardens   \n",
       "4  4ac7a2caf964a520adb820e3             National Theatre   \n",
       "\n",
       "                                          categories     location.address  \\\n",
       "0  [{'id': '4bf58dd8d48988d171941735', 'name': 'E...               Strand   \n",
       "1  [{'id': '4bf58dd8d48988d1fa931735', 'name': 'H...               Strand   \n",
       "2  [{'id': '4bf58dd8d48988d137941735', 'name': 'T...     21 Wellington St   \n",
       "3  [{'id': '4bf58dd8d48988d15a941735', 'name': 'G...  Victoria Embankment   \n",
       "4  [{'id': '4bf58dd8d48988d137941735', 'name': 'T...         Upper Ground   \n",
       "\n",
       "   location.lat  location.lng  \\\n",
       "0     51.510786     -0.117899   \n",
       "1     51.510448     -0.120876   \n",
       "2     51.511598     -0.119785   \n",
       "3     51.508135     -0.122079   \n",
       "4     51.507376     -0.114793   \n",
       "\n",
       "                             location.labeledLatLngs  location.distance  \\\n",
       "0  [{'label': 'display', 'lat': 51.51078575130956...                103   \n",
       "1  [{'label': 'display', 'lat': 51.51044776531987...                203   \n",
       "2  [{'label': 'display', 'lat': 51.51159771114791...                225   \n",
       "3  [{'label': 'display', 'lat': 51.50813522335623...                336   \n",
       "4  [{'label': 'display', 'lat': 51.50737580946016...                359   \n",
       "\n",
       "  location.postalCode location.cc  ... location.country  \\\n",
       "0            WC2R 1LA          GB  ...   United Kingdom   \n",
       "1            WC2R 0EU          GB  ...   United Kingdom   \n",
       "2            WC2E 7DA          GB  ...   United Kingdom   \n",
       "3                 NaN          GB  ...   United Kingdom   \n",
       "4             SE1 9PX          GB  ...   United Kingdom   \n",
       "\n",
       "                           location.formattedAddress photos.count  \\\n",
       "0  [Strand, London, Greater London, WC2R 1LA, Uni...            0   \n",
       "1  [Strand (Savoy St), London, Greater London, WC...            0   \n",
       "2  [21 Wellington St, London, Greater London, WC2...            0   \n",
       "3  [Victoria Embankment (btwn Villiers St & Savoy...            0   \n",
       "4  [Upper Ground, London, Greater London, SE1 9PX...            0   \n",
       "\n",
       "  photos.groups  venuePage.id         location.crossStreet  \\\n",
       "0            []      45884508                          NaN   \n",
       "1            []           NaN                     Savoy St   \n",
       "2            []      42261411                          NaN   \n",
       "3            []      53401191  btwn Villiers St & Savoy St   \n",
       "4            []           NaN                          NaN   \n",
       "\n",
       "  location.neighborhood events.count events.summary  events.items  \n",
       "0                   NaN          NaN            NaN           NaN  \n",
       "1                   NaN          NaN            NaN           NaN  \n",
       "2                   NaN          NaN            NaN           NaN  \n",
       "3                   NaN          NaN            NaN           NaN  \n",
       "4             South Ban          NaN            NaN           NaN  \n",
       "\n",
       "[5 rows x 22 columns]"
      ]
     },
     "execution_count": 9,
     "metadata": {},
     "output_type": "execute_result"
    }
   ],
   "source": [
    "df_london = json_normalize(london_venues)\n",
    "df_london.head()"
   ]
  },
  {
   "cell_type": "code",
   "execution_count": 10,
   "metadata": {},
   "outputs": [
    {
     "name": "stderr",
     "output_type": "stream",
     "text": [
      "/usr/local/lib/python3.7/site-packages/ipykernel_launcher.py:1: FutureWarning: pandas.io.json.json_normalize is deprecated, use pandas.json_normalize instead\n",
      "  \"\"\"Entry point for launching an IPython kernel.\n"
     ]
    },
    {
     "data": {
      "text/html": [
       "<div>\n",
       "<style scoped>\n",
       "    .dataframe tbody tr th:only-of-type {\n",
       "        vertical-align: middle;\n",
       "    }\n",
       "\n",
       "    .dataframe tbody tr th {\n",
       "        vertical-align: top;\n",
       "    }\n",
       "\n",
       "    .dataframe thead th {\n",
       "        text-align: right;\n",
       "    }\n",
       "</style>\n",
       "<table border=\"1\" class=\"dataframe\">\n",
       "  <thead>\n",
       "    <tr style=\"text-align: right;\">\n",
       "      <th></th>\n",
       "      <th>id</th>\n",
       "      <th>name</th>\n",
       "      <th>categories</th>\n",
       "      <th>location.address</th>\n",
       "      <th>location.lat</th>\n",
       "      <th>location.lng</th>\n",
       "      <th>location.labeledLatLngs</th>\n",
       "      <th>location.distance</th>\n",
       "      <th>location.postalCode</th>\n",
       "      <th>location.cc</th>\n",
       "      <th>location.city</th>\n",
       "      <th>location.country</th>\n",
       "      <th>location.formattedAddress</th>\n",
       "      <th>photos.count</th>\n",
       "      <th>photos.groups</th>\n",
       "      <th>location.crossStreet</th>\n",
       "      <th>venuePage.id</th>\n",
       "      <th>location.neighborhood</th>\n",
       "      <th>location.state</th>\n",
       "    </tr>\n",
       "  </thead>\n",
       "  <tbody>\n",
       "    <tr>\n",
       "      <th>0</th>\n",
       "      <td>4d438c6514aa8cfa743d5c3d</td>\n",
       "      <td>National Gal­lery Singa­pore</td>\n",
       "      <td>[{'id': '4bf58dd8d48988d1e2931735', 'name': 'A...</td>\n",
       "      <td>1 St. Andrew's Road</td>\n",
       "      <td>1.290740</td>\n",
       "      <td>103.851548</td>\n",
       "      <td>[{'label': 'display', 'lat': 1.290739591334198...</td>\n",
       "      <td>69</td>\n",
       "      <td>178957</td>\n",
       "      <td>SG</td>\n",
       "      <td>Singapore</td>\n",
       "      <td>Singapore</td>\n",
       "      <td>[1 St. Andrew's Road, 178957, Singapore]</td>\n",
       "      <td>0</td>\n",
       "      <td>[]</td>\n",
       "      <td>NaN</td>\n",
       "      <td>NaN</td>\n",
       "      <td>NaN</td>\n",
       "      <td>NaN</td>\n",
       "    </tr>\n",
       "    <tr>\n",
       "      <th>1</th>\n",
       "      <td>4b058810f964a52036af22e3</td>\n",
       "      <td>Esplanade Park</td>\n",
       "      <td>[{'id': '4bf58dd8d48988d163941735', 'name': 'P...</td>\n",
       "      <td>Connaught Dr.</td>\n",
       "      <td>1.288968</td>\n",
       "      <td>103.853580</td>\n",
       "      <td>[{'label': 'display', 'lat': 1.288967570835395...</td>\n",
       "      <td>231</td>\n",
       "      <td>179558</td>\n",
       "      <td>SG</td>\n",
       "      <td>Singapore</td>\n",
       "      <td>Singapore</td>\n",
       "      <td>[Connaught Dr. (Opp Padang &amp; City Hall), 17955...</td>\n",
       "      <td>0</td>\n",
       "      <td>[]</td>\n",
       "      <td>Opp Padang &amp; City Hall</td>\n",
       "      <td>NaN</td>\n",
       "      <td>NaN</td>\n",
       "      <td>NaN</td>\n",
       "    </tr>\n",
       "    <tr>\n",
       "      <th>2</th>\n",
       "      <td>4e7f3d04f5b97a346f1afe04</td>\n",
       "      <td>Singapore F1 GP: Padang Stage</td>\n",
       "      <td>[{'id': '5032792091d4c4b30a586d5c', 'name': 'C...</td>\n",
       "      <td>Marina Bay Street Circuit</td>\n",
       "      <td>1.290697</td>\n",
       "      <td>103.853297</td>\n",
       "      <td>[{'label': 'display', 'lat': 1.290696620128562...</td>\n",
       "      <td>156</td>\n",
       "      <td>NaN</td>\n",
       "      <td>SG</td>\n",
       "      <td>Singapore</td>\n",
       "      <td>Singapore</td>\n",
       "      <td>[Marina Bay Street Circuit (Zone 4), Singapore]</td>\n",
       "      <td>0</td>\n",
       "      <td>[]</td>\n",
       "      <td>Zone 4</td>\n",
       "      <td>NaN</td>\n",
       "      <td>NaN</td>\n",
       "      <td>NaN</td>\n",
       "    </tr>\n",
       "    <tr>\n",
       "      <th>3</th>\n",
       "      <td>4f0bbc70e4b0baf830387ef5</td>\n",
       "      <td>The Oval @ Singapore Cricket Club Pavilion</td>\n",
       "      <td>[{'id': '4bf58dd8d48988d1c4941735', 'name': 'R...</td>\n",
       "      <td>Connaught Dr</td>\n",
       "      <td>1.289006</td>\n",
       "      <td>103.852438</td>\n",
       "      <td>[{'label': 'display', 'lat': 1.289006326179918...</td>\n",
       "      <td>150</td>\n",
       "      <td>NaN</td>\n",
       "      <td>SG</td>\n",
       "      <td>Singapore</td>\n",
       "      <td>Singapore</td>\n",
       "      <td>[Connaught Dr, Singapore]</td>\n",
       "      <td>0</td>\n",
       "      <td>[]</td>\n",
       "      <td>NaN</td>\n",
       "      <td>NaN</td>\n",
       "      <td>NaN</td>\n",
       "      <td>NaN</td>\n",
       "    </tr>\n",
       "    <tr>\n",
       "      <th>4</th>\n",
       "      <td>5630c035498ed421ed0b2afc</td>\n",
       "      <td>Odette Restaurant</td>\n",
       "      <td>[{'id': '4bf58dd8d48988d10c941735', 'name': 'F...</td>\n",
       "      <td>#01-04, National Gal­lery Singa­pore</td>\n",
       "      <td>1.289679</td>\n",
       "      <td>103.851691</td>\n",
       "      <td>[{'label': 'display', 'lat': 1.289679438856723...</td>\n",
       "      <td>72</td>\n",
       "      <td>178957</td>\n",
       "      <td>SG</td>\n",
       "      <td>Singapore</td>\n",
       "      <td>Singapore</td>\n",
       "      <td>[#01-04, National Gal­lery Singa­pore (1 St. A...</td>\n",
       "      <td>0</td>\n",
       "      <td>[]</td>\n",
       "      <td>1 St. Andrew's Road</td>\n",
       "      <td>NaN</td>\n",
       "      <td>NaN</td>\n",
       "      <td>NaN</td>\n",
       "    </tr>\n",
       "  </tbody>\n",
       "</table>\n",
       "</div>"
      ],
      "text/plain": [
       "                         id                                        name  \\\n",
       "0  4d438c6514aa8cfa743d5c3d                National Gal­lery Singa­pore   \n",
       "1  4b058810f964a52036af22e3                              Esplanade Park   \n",
       "2  4e7f3d04f5b97a346f1afe04               Singapore F1 GP: Padang Stage   \n",
       "3  4f0bbc70e4b0baf830387ef5  The Oval @ Singapore Cricket Club Pavilion   \n",
       "4  5630c035498ed421ed0b2afc                           Odette Restaurant   \n",
       "\n",
       "                                          categories  \\\n",
       "0  [{'id': '4bf58dd8d48988d1e2931735', 'name': 'A...   \n",
       "1  [{'id': '4bf58dd8d48988d163941735', 'name': 'P...   \n",
       "2  [{'id': '5032792091d4c4b30a586d5c', 'name': 'C...   \n",
       "3  [{'id': '4bf58dd8d48988d1c4941735', 'name': 'R...   \n",
       "4  [{'id': '4bf58dd8d48988d10c941735', 'name': 'F...   \n",
       "\n",
       "                       location.address  location.lat  location.lng  \\\n",
       "0                   1 St. Andrew's Road      1.290740    103.851548   \n",
       "1                         Connaught Dr.      1.288968    103.853580   \n",
       "2             Marina Bay Street Circuit      1.290697    103.853297   \n",
       "3                          Connaught Dr      1.289006    103.852438   \n",
       "4  #01-04, National Gal­lery Singa­pore      1.289679    103.851691   \n",
       "\n",
       "                             location.labeledLatLngs  location.distance  \\\n",
       "0  [{'label': 'display', 'lat': 1.290739591334198...                 69   \n",
       "1  [{'label': 'display', 'lat': 1.288967570835395...                231   \n",
       "2  [{'label': 'display', 'lat': 1.290696620128562...                156   \n",
       "3  [{'label': 'display', 'lat': 1.289006326179918...                150   \n",
       "4  [{'label': 'display', 'lat': 1.289679438856723...                 72   \n",
       "\n",
       "  location.postalCode location.cc location.city location.country  \\\n",
       "0              178957          SG     Singapore        Singapore   \n",
       "1              179558          SG     Singapore        Singapore   \n",
       "2                 NaN          SG     Singapore        Singapore   \n",
       "3                 NaN          SG     Singapore        Singapore   \n",
       "4              178957          SG     Singapore        Singapore   \n",
       "\n",
       "                           location.formattedAddress  photos.count  \\\n",
       "0           [1 St. Andrew's Road, 178957, Singapore]             0   \n",
       "1  [Connaught Dr. (Opp Padang & City Hall), 17955...             0   \n",
       "2    [Marina Bay Street Circuit (Zone 4), Singapore]             0   \n",
       "3                          [Connaught Dr, Singapore]             0   \n",
       "4  [#01-04, National Gal­lery Singa­pore (1 St. A...             0   \n",
       "\n",
       "  photos.groups    location.crossStreet venuePage.id location.neighborhood  \\\n",
       "0            []                     NaN          NaN                   NaN   \n",
       "1            []  Opp Padang & City Hall          NaN                   NaN   \n",
       "2            []                  Zone 4          NaN                   NaN   \n",
       "3            []                     NaN          NaN                   NaN   \n",
       "4            []     1 St. Andrew's Road          NaN                   NaN   \n",
       "\n",
       "  location.state  \n",
       "0            NaN  \n",
       "1            NaN  \n",
       "2            NaN  \n",
       "3            NaN  \n",
       "4            NaN  "
      ]
     },
     "execution_count": 10,
     "metadata": {},
     "output_type": "execute_result"
    }
   ],
   "source": [
    "df_singapor = json_normalize(singapor_venues)\n",
    "df_singapor.head()"
   ]
  },
  {
   "cell_type": "code",
   "execution_count": 11,
   "metadata": {},
   "outputs": [
    {
     "data": {
      "text/plain": [
       "(100, 22)"
      ]
     },
     "execution_count": 11,
     "metadata": {},
     "output_type": "execute_result"
    }
   ],
   "source": [
    "df_london.shape"
   ]
  },
  {
   "cell_type": "code",
   "execution_count": 12,
   "metadata": {},
   "outputs": [
    {
     "data": {
      "text/plain": [
       "(100, 19)"
      ]
     },
     "execution_count": 12,
     "metadata": {},
     "output_type": "execute_result"
    }
   ],
   "source": [
    "df_singapor.shape"
   ]
  },
  {
   "cell_type": "markdown",
   "metadata": {},
   "source": [
    "<h4 style='color:blue'>Data cleaning</h4>"
   ]
  },
  {
   "cell_type": "markdown",
   "metadata": {},
   "source": [
    "<p style='font-family:Arial;'>Cleaning our data is a very important step as we need only some informations from the results we have</p>\n",
    "<p style='font-family:Arial;'>Another important point is that categories is in a list of dict format in our resutlt and we just want a text format</p>\n",
    "\n"
   ]
  },
  {
   "cell_type": "markdown",
   "metadata": {},
   "source": [
    "<p style='font-family:Arial;'> the fonction below we transform the category column in each dataframe and transform it to a readable text format </p> "
   ]
  },
  {
   "cell_type": "code",
   "execution_count": 13,
   "metadata": {},
   "outputs": [],
   "source": [
    "def get_category_type(row):\n",
    "    try:\n",
    "        categories_list = row['categories']\n",
    "    except:\n",
    "        categories_list = row['venue.categories']\n",
    "    if len(categories_list) == 0:\n",
    "        return None\n",
    "    else:\n",
    "        return categories_list[0]['name']"
   ]
  },
  {
   "cell_type": "markdown",
   "metadata": {},
   "source": [
    "<p style='font-family:Arial;'> So let's apply the function to our two dataframe </p> "
   ]
  },
  {
   "cell_type": "code",
   "execution_count": 14,
   "metadata": {},
   "outputs": [],
   "source": [
    "df_london['categories'] = df_london.apply(get_category_type, axis=1)"
   ]
  },
  {
   "cell_type": "code",
   "execution_count": 15,
   "metadata": {},
   "outputs": [],
   "source": [
    "df_singapor['categories'] = df_singapor.apply(get_category_type, axis=1)"
   ]
  },
  {
   "cell_type": "markdown",
   "metadata": {},
   "source": [
    "<p style='font-family:Arial;'> We see that the categories column is now clean and readable </p> "
   ]
  },
  {
   "cell_type": "code",
   "execution_count": 16,
   "metadata": {},
   "outputs": [
    {
     "data": {
      "text/html": [
       "<div>\n",
       "<style scoped>\n",
       "    .dataframe tbody tr th:only-of-type {\n",
       "        vertical-align: middle;\n",
       "    }\n",
       "\n",
       "    .dataframe tbody tr th {\n",
       "        vertical-align: top;\n",
       "    }\n",
       "\n",
       "    .dataframe thead th {\n",
       "        text-align: right;\n",
       "    }\n",
       "</style>\n",
       "<table border=\"1\" class=\"dataframe\">\n",
       "  <thead>\n",
       "    <tr style=\"text-align: right;\">\n",
       "      <th></th>\n",
       "      <th>id</th>\n",
       "      <th>name</th>\n",
       "      <th>categories</th>\n",
       "      <th>location.address</th>\n",
       "      <th>location.lat</th>\n",
       "      <th>location.lng</th>\n",
       "      <th>location.labeledLatLngs</th>\n",
       "      <th>location.distance</th>\n",
       "      <th>location.postalCode</th>\n",
       "      <th>location.cc</th>\n",
       "      <th>...</th>\n",
       "      <th>location.country</th>\n",
       "      <th>location.formattedAddress</th>\n",
       "      <th>photos.count</th>\n",
       "      <th>photos.groups</th>\n",
       "      <th>venuePage.id</th>\n",
       "      <th>location.crossStreet</th>\n",
       "      <th>location.neighborhood</th>\n",
       "      <th>events.count</th>\n",
       "      <th>events.summary</th>\n",
       "      <th>events.items</th>\n",
       "    </tr>\n",
       "  </thead>\n",
       "  <tbody>\n",
       "    <tr>\n",
       "      <th>0</th>\n",
       "      <td>4ac518cff964a52063a620e3</td>\n",
       "      <td>Somerset House</td>\n",
       "      <td>Event Space</td>\n",
       "      <td>Strand</td>\n",
       "      <td>51.510786</td>\n",
       "      <td>-0.117899</td>\n",
       "      <td>[{'label': 'display', 'lat': 51.51078575130956...</td>\n",
       "      <td>103</td>\n",
       "      <td>WC2R 1LA</td>\n",
       "      <td>GB</td>\n",
       "      <td>...</td>\n",
       "      <td>United Kingdom</td>\n",
       "      <td>[Strand, London, Greater London, WC2R 1LA, Uni...</td>\n",
       "      <td>0</td>\n",
       "      <td>[]</td>\n",
       "      <td>45884508</td>\n",
       "      <td>NaN</td>\n",
       "      <td>NaN</td>\n",
       "      <td>NaN</td>\n",
       "      <td>NaN</td>\n",
       "      <td>NaN</td>\n",
       "    </tr>\n",
       "    <tr>\n",
       "      <th>1</th>\n",
       "      <td>4c6950702c29d13ab5d50a41</td>\n",
       "      <td>The Savoy Hotel</td>\n",
       "      <td>Hotel</td>\n",
       "      <td>Strand</td>\n",
       "      <td>51.510448</td>\n",
       "      <td>-0.120876</td>\n",
       "      <td>[{'label': 'display', 'lat': 51.51044776531987...</td>\n",
       "      <td>203</td>\n",
       "      <td>WC2R 0EU</td>\n",
       "      <td>GB</td>\n",
       "      <td>...</td>\n",
       "      <td>United Kingdom</td>\n",
       "      <td>[Strand (Savoy St), London, Greater London, WC...</td>\n",
       "      <td>0</td>\n",
       "      <td>[]</td>\n",
       "      <td>NaN</td>\n",
       "      <td>Savoy St</td>\n",
       "      <td>NaN</td>\n",
       "      <td>NaN</td>\n",
       "      <td>NaN</td>\n",
       "      <td>NaN</td>\n",
       "    </tr>\n",
       "    <tr>\n",
       "      <th>2</th>\n",
       "      <td>4bad083df964a52078263be3</td>\n",
       "      <td>Lyceum Theatre</td>\n",
       "      <td>Theater</td>\n",
       "      <td>21 Wellington St</td>\n",
       "      <td>51.511598</td>\n",
       "      <td>-0.119785</td>\n",
       "      <td>[{'label': 'display', 'lat': 51.51159771114791...</td>\n",
       "      <td>225</td>\n",
       "      <td>WC2E 7DA</td>\n",
       "      <td>GB</td>\n",
       "      <td>...</td>\n",
       "      <td>United Kingdom</td>\n",
       "      <td>[21 Wellington St, London, Greater London, WC2...</td>\n",
       "      <td>0</td>\n",
       "      <td>[]</td>\n",
       "      <td>42261411</td>\n",
       "      <td>NaN</td>\n",
       "      <td>NaN</td>\n",
       "      <td>NaN</td>\n",
       "      <td>NaN</td>\n",
       "      <td>NaN</td>\n",
       "    </tr>\n",
       "    <tr>\n",
       "      <th>3</th>\n",
       "      <td>4b9e3908f964a520f6d236e3</td>\n",
       "      <td>Victoria Embankment Gardens</td>\n",
       "      <td>Garden</td>\n",
       "      <td>Victoria Embankment</td>\n",
       "      <td>51.508135</td>\n",
       "      <td>-0.122079</td>\n",
       "      <td>[{'label': 'display', 'lat': 51.50813522335623...</td>\n",
       "      <td>336</td>\n",
       "      <td>NaN</td>\n",
       "      <td>GB</td>\n",
       "      <td>...</td>\n",
       "      <td>United Kingdom</td>\n",
       "      <td>[Victoria Embankment (btwn Villiers St &amp; Savoy...</td>\n",
       "      <td>0</td>\n",
       "      <td>[]</td>\n",
       "      <td>53401191</td>\n",
       "      <td>btwn Villiers St &amp; Savoy St</td>\n",
       "      <td>NaN</td>\n",
       "      <td>NaN</td>\n",
       "      <td>NaN</td>\n",
       "      <td>NaN</td>\n",
       "    </tr>\n",
       "    <tr>\n",
       "      <th>4</th>\n",
       "      <td>4ac7a2caf964a520adb820e3</td>\n",
       "      <td>National Theatre</td>\n",
       "      <td>Theater</td>\n",
       "      <td>Upper Ground</td>\n",
       "      <td>51.507376</td>\n",
       "      <td>-0.114793</td>\n",
       "      <td>[{'label': 'display', 'lat': 51.50737580946016...</td>\n",
       "      <td>359</td>\n",
       "      <td>SE1 9PX</td>\n",
       "      <td>GB</td>\n",
       "      <td>...</td>\n",
       "      <td>United Kingdom</td>\n",
       "      <td>[Upper Ground, London, Greater London, SE1 9PX...</td>\n",
       "      <td>0</td>\n",
       "      <td>[]</td>\n",
       "      <td>NaN</td>\n",
       "      <td>NaN</td>\n",
       "      <td>South Ban</td>\n",
       "      <td>NaN</td>\n",
       "      <td>NaN</td>\n",
       "      <td>NaN</td>\n",
       "    </tr>\n",
       "  </tbody>\n",
       "</table>\n",
       "<p>5 rows × 22 columns</p>\n",
       "</div>"
      ],
      "text/plain": [
       "                         id                         name   categories  \\\n",
       "0  4ac518cff964a52063a620e3               Somerset House  Event Space   \n",
       "1  4c6950702c29d13ab5d50a41              The Savoy Hotel        Hotel   \n",
       "2  4bad083df964a52078263be3               Lyceum Theatre      Theater   \n",
       "3  4b9e3908f964a520f6d236e3  Victoria Embankment Gardens       Garden   \n",
       "4  4ac7a2caf964a520adb820e3             National Theatre      Theater   \n",
       "\n",
       "      location.address  location.lat  location.lng  \\\n",
       "0               Strand     51.510786     -0.117899   \n",
       "1               Strand     51.510448     -0.120876   \n",
       "2     21 Wellington St     51.511598     -0.119785   \n",
       "3  Victoria Embankment     51.508135     -0.122079   \n",
       "4         Upper Ground     51.507376     -0.114793   \n",
       "\n",
       "                             location.labeledLatLngs  location.distance  \\\n",
       "0  [{'label': 'display', 'lat': 51.51078575130956...                103   \n",
       "1  [{'label': 'display', 'lat': 51.51044776531987...                203   \n",
       "2  [{'label': 'display', 'lat': 51.51159771114791...                225   \n",
       "3  [{'label': 'display', 'lat': 51.50813522335623...                336   \n",
       "4  [{'label': 'display', 'lat': 51.50737580946016...                359   \n",
       "\n",
       "  location.postalCode location.cc  ... location.country  \\\n",
       "0            WC2R 1LA          GB  ...   United Kingdom   \n",
       "1            WC2R 0EU          GB  ...   United Kingdom   \n",
       "2            WC2E 7DA          GB  ...   United Kingdom   \n",
       "3                 NaN          GB  ...   United Kingdom   \n",
       "4             SE1 9PX          GB  ...   United Kingdom   \n",
       "\n",
       "                           location.formattedAddress photos.count  \\\n",
       "0  [Strand, London, Greater London, WC2R 1LA, Uni...            0   \n",
       "1  [Strand (Savoy St), London, Greater London, WC...            0   \n",
       "2  [21 Wellington St, London, Greater London, WC2...            0   \n",
       "3  [Victoria Embankment (btwn Villiers St & Savoy...            0   \n",
       "4  [Upper Ground, London, Greater London, SE1 9PX...            0   \n",
       "\n",
       "  photos.groups  venuePage.id         location.crossStreet  \\\n",
       "0            []      45884508                          NaN   \n",
       "1            []           NaN                     Savoy St   \n",
       "2            []      42261411                          NaN   \n",
       "3            []      53401191  btwn Villiers St & Savoy St   \n",
       "4            []           NaN                          NaN   \n",
       "\n",
       "  location.neighborhood events.count events.summary  events.items  \n",
       "0                   NaN          NaN            NaN           NaN  \n",
       "1                   NaN          NaN            NaN           NaN  \n",
       "2                   NaN          NaN            NaN           NaN  \n",
       "3                   NaN          NaN            NaN           NaN  \n",
       "4             South Ban          NaN            NaN           NaN  \n",
       "\n",
       "[5 rows x 22 columns]"
      ]
     },
     "execution_count": 16,
     "metadata": {},
     "output_type": "execute_result"
    }
   ],
   "source": [
    "df_london.head()"
   ]
  },
  {
   "cell_type": "code",
   "execution_count": 17,
   "metadata": {},
   "outputs": [
    {
     "data": {
      "text/html": [
       "<div>\n",
       "<style scoped>\n",
       "    .dataframe tbody tr th:only-of-type {\n",
       "        vertical-align: middle;\n",
       "    }\n",
       "\n",
       "    .dataframe tbody tr th {\n",
       "        vertical-align: top;\n",
       "    }\n",
       "\n",
       "    .dataframe thead th {\n",
       "        text-align: right;\n",
       "    }\n",
       "</style>\n",
       "<table border=\"1\" class=\"dataframe\">\n",
       "  <thead>\n",
       "    <tr style=\"text-align: right;\">\n",
       "      <th></th>\n",
       "      <th>id</th>\n",
       "      <th>name</th>\n",
       "      <th>categories</th>\n",
       "      <th>location.address</th>\n",
       "      <th>location.lat</th>\n",
       "      <th>location.lng</th>\n",
       "      <th>location.labeledLatLngs</th>\n",
       "      <th>location.distance</th>\n",
       "      <th>location.postalCode</th>\n",
       "      <th>location.cc</th>\n",
       "      <th>location.city</th>\n",
       "      <th>location.country</th>\n",
       "      <th>location.formattedAddress</th>\n",
       "      <th>photos.count</th>\n",
       "      <th>photos.groups</th>\n",
       "      <th>location.crossStreet</th>\n",
       "      <th>venuePage.id</th>\n",
       "      <th>location.neighborhood</th>\n",
       "      <th>location.state</th>\n",
       "    </tr>\n",
       "  </thead>\n",
       "  <tbody>\n",
       "    <tr>\n",
       "      <th>0</th>\n",
       "      <td>4d438c6514aa8cfa743d5c3d</td>\n",
       "      <td>National Gal­lery Singa­pore</td>\n",
       "      <td>Art Gallery</td>\n",
       "      <td>1 St. Andrew's Road</td>\n",
       "      <td>1.290740</td>\n",
       "      <td>103.851548</td>\n",
       "      <td>[{'label': 'display', 'lat': 1.290739591334198...</td>\n",
       "      <td>69</td>\n",
       "      <td>178957</td>\n",
       "      <td>SG</td>\n",
       "      <td>Singapore</td>\n",
       "      <td>Singapore</td>\n",
       "      <td>[1 St. Andrew's Road, 178957, Singapore]</td>\n",
       "      <td>0</td>\n",
       "      <td>[]</td>\n",
       "      <td>NaN</td>\n",
       "      <td>NaN</td>\n",
       "      <td>NaN</td>\n",
       "      <td>NaN</td>\n",
       "    </tr>\n",
       "    <tr>\n",
       "      <th>1</th>\n",
       "      <td>4b058810f964a52036af22e3</td>\n",
       "      <td>Esplanade Park</td>\n",
       "      <td>Park</td>\n",
       "      <td>Connaught Dr.</td>\n",
       "      <td>1.288968</td>\n",
       "      <td>103.853580</td>\n",
       "      <td>[{'label': 'display', 'lat': 1.288967570835395...</td>\n",
       "      <td>231</td>\n",
       "      <td>179558</td>\n",
       "      <td>SG</td>\n",
       "      <td>Singapore</td>\n",
       "      <td>Singapore</td>\n",
       "      <td>[Connaught Dr. (Opp Padang &amp; City Hall), 17955...</td>\n",
       "      <td>0</td>\n",
       "      <td>[]</td>\n",
       "      <td>Opp Padang &amp; City Hall</td>\n",
       "      <td>NaN</td>\n",
       "      <td>NaN</td>\n",
       "      <td>NaN</td>\n",
       "    </tr>\n",
       "    <tr>\n",
       "      <th>2</th>\n",
       "      <td>4e7f3d04f5b97a346f1afe04</td>\n",
       "      <td>Singapore F1 GP: Padang Stage</td>\n",
       "      <td>Concert Hall</td>\n",
       "      <td>Marina Bay Street Circuit</td>\n",
       "      <td>1.290697</td>\n",
       "      <td>103.853297</td>\n",
       "      <td>[{'label': 'display', 'lat': 1.290696620128562...</td>\n",
       "      <td>156</td>\n",
       "      <td>NaN</td>\n",
       "      <td>SG</td>\n",
       "      <td>Singapore</td>\n",
       "      <td>Singapore</td>\n",
       "      <td>[Marina Bay Street Circuit (Zone 4), Singapore]</td>\n",
       "      <td>0</td>\n",
       "      <td>[]</td>\n",
       "      <td>Zone 4</td>\n",
       "      <td>NaN</td>\n",
       "      <td>NaN</td>\n",
       "      <td>NaN</td>\n",
       "    </tr>\n",
       "    <tr>\n",
       "      <th>3</th>\n",
       "      <td>4f0bbc70e4b0baf830387ef5</td>\n",
       "      <td>The Oval @ Singapore Cricket Club Pavilion</td>\n",
       "      <td>Restaurant</td>\n",
       "      <td>Connaught Dr</td>\n",
       "      <td>1.289006</td>\n",
       "      <td>103.852438</td>\n",
       "      <td>[{'label': 'display', 'lat': 1.289006326179918...</td>\n",
       "      <td>150</td>\n",
       "      <td>NaN</td>\n",
       "      <td>SG</td>\n",
       "      <td>Singapore</td>\n",
       "      <td>Singapore</td>\n",
       "      <td>[Connaught Dr, Singapore]</td>\n",
       "      <td>0</td>\n",
       "      <td>[]</td>\n",
       "      <td>NaN</td>\n",
       "      <td>NaN</td>\n",
       "      <td>NaN</td>\n",
       "      <td>NaN</td>\n",
       "    </tr>\n",
       "    <tr>\n",
       "      <th>4</th>\n",
       "      <td>5630c035498ed421ed0b2afc</td>\n",
       "      <td>Odette Restaurant</td>\n",
       "      <td>French Restaurant</td>\n",
       "      <td>#01-04, National Gal­lery Singa­pore</td>\n",
       "      <td>1.289679</td>\n",
       "      <td>103.851691</td>\n",
       "      <td>[{'label': 'display', 'lat': 1.289679438856723...</td>\n",
       "      <td>72</td>\n",
       "      <td>178957</td>\n",
       "      <td>SG</td>\n",
       "      <td>Singapore</td>\n",
       "      <td>Singapore</td>\n",
       "      <td>[#01-04, National Gal­lery Singa­pore (1 St. A...</td>\n",
       "      <td>0</td>\n",
       "      <td>[]</td>\n",
       "      <td>1 St. Andrew's Road</td>\n",
       "      <td>NaN</td>\n",
       "      <td>NaN</td>\n",
       "      <td>NaN</td>\n",
       "    </tr>\n",
       "  </tbody>\n",
       "</table>\n",
       "</div>"
      ],
      "text/plain": [
       "                         id                                        name  \\\n",
       "0  4d438c6514aa8cfa743d5c3d                National Gal­lery Singa­pore   \n",
       "1  4b058810f964a52036af22e3                              Esplanade Park   \n",
       "2  4e7f3d04f5b97a346f1afe04               Singapore F1 GP: Padang Stage   \n",
       "3  4f0bbc70e4b0baf830387ef5  The Oval @ Singapore Cricket Club Pavilion   \n",
       "4  5630c035498ed421ed0b2afc                           Odette Restaurant   \n",
       "\n",
       "          categories                      location.address  location.lat  \\\n",
       "0        Art Gallery                   1 St. Andrew's Road      1.290740   \n",
       "1               Park                         Connaught Dr.      1.288968   \n",
       "2       Concert Hall             Marina Bay Street Circuit      1.290697   \n",
       "3         Restaurant                          Connaught Dr      1.289006   \n",
       "4  French Restaurant  #01-04, National Gal­lery Singa­pore      1.289679   \n",
       "\n",
       "   location.lng                            location.labeledLatLngs  \\\n",
       "0    103.851548  [{'label': 'display', 'lat': 1.290739591334198...   \n",
       "1    103.853580  [{'label': 'display', 'lat': 1.288967570835395...   \n",
       "2    103.853297  [{'label': 'display', 'lat': 1.290696620128562...   \n",
       "3    103.852438  [{'label': 'display', 'lat': 1.289006326179918...   \n",
       "4    103.851691  [{'label': 'display', 'lat': 1.289679438856723...   \n",
       "\n",
       "   location.distance location.postalCode location.cc location.city  \\\n",
       "0                 69              178957          SG     Singapore   \n",
       "1                231              179558          SG     Singapore   \n",
       "2                156                 NaN          SG     Singapore   \n",
       "3                150                 NaN          SG     Singapore   \n",
       "4                 72              178957          SG     Singapore   \n",
       "\n",
       "  location.country                          location.formattedAddress  \\\n",
       "0        Singapore           [1 St. Andrew's Road, 178957, Singapore]   \n",
       "1        Singapore  [Connaught Dr. (Opp Padang & City Hall), 17955...   \n",
       "2        Singapore    [Marina Bay Street Circuit (Zone 4), Singapore]   \n",
       "3        Singapore                          [Connaught Dr, Singapore]   \n",
       "4        Singapore  [#01-04, National Gal­lery Singa­pore (1 St. A...   \n",
       "\n",
       "   photos.count photos.groups    location.crossStreet venuePage.id  \\\n",
       "0             0            []                     NaN          NaN   \n",
       "1             0            []  Opp Padang & City Hall          NaN   \n",
       "2             0            []                  Zone 4          NaN   \n",
       "3             0            []                     NaN          NaN   \n",
       "4             0            []     1 St. Andrew's Road          NaN   \n",
       "\n",
       "  location.neighborhood location.state  \n",
       "0                   NaN            NaN  \n",
       "1                   NaN            NaN  \n",
       "2                   NaN            NaN  \n",
       "3                   NaN            NaN  \n",
       "4                   NaN            NaN  "
      ]
     },
     "execution_count": 17,
     "metadata": {},
     "output_type": "execute_result"
    }
   ],
   "source": [
    "df_singapor.head()"
   ]
  },
  {
   "cell_type": "markdown",
   "metadata": {},
   "source": [
    "<p style='font-family:Arial;'> Now we have clean categories the next is to define two variable </p>\n",
    "<p style='font-family:Arial;'> the first on named filtered_columns is to limit out dataframe for only needed columns. We will use only the name,categories, latitude and longitude </p>\n",
    "<p style='font-family:Arial;'> the second variable named colors_categories is a dictionnary with needed categories with corresonding colors. these colors will be used when showing the map</p>"
   ]
  },
  {
   "cell_type": "code",
   "execution_count": 18,
   "metadata": {},
   "outputs": [],
   "source": [
    "filtered_columns = ['name', 'categories', 'location.lat', 'location.lng']\n",
    "colors_categories = {\"restaurant\":\"green\", \"park\": \"blue\", \"coffee\": \"pink\", \"shopping\": \"red\"}"
   ]
  },
  {
   "cell_type": "markdown",
   "metadata": {},
   "source": [
    "<p style='font-family:Arial;'> Then we apply the filtered columns to our dataframes and we will limit the dataframe to only categories venues we have choosen . the others categories that did not match will be removed.</p>"
   ]
  },
  {
   "cell_type": "code",
   "execution_count": 19,
   "metadata": {},
   "outputs": [
    {
     "name": "stderr",
     "output_type": "stream",
     "text": [
      "/usr/local/lib/python3.7/site-packages/pandas/core/frame.py:4133: SettingWithCopyWarning: \n",
      "A value is trying to be set on a copy of a slice from a DataFrame\n",
      "\n",
      "See the caveats in the documentation: https://pandas.pydata.org/pandas-docs/stable/user_guide/indexing.html#returning-a-view-versus-a-copy\n",
      "  errors=errors,\n"
     ]
    }
   ],
   "source": [
    "import re\n",
    "df_filtered_london = df_london[filtered_columns]\n",
    "df_filtered_london.rename(columns={'location.lat': 'lat', 'location.lng': 'lng'}, inplace=True)\n",
    "df_filtered_london = df_filtered_london[df_filtered_london.stack().str.contains('|'.join(colors_categories.keys()),flags=re.IGNORECASE).any(level=0)]"
   ]
  },
  {
   "cell_type": "markdown",
   "metadata": {},
   "source": [
    "<p style='font-family:Arial;'>Let make the same stuff above to our singapor data </p> "
   ]
  },
  {
   "cell_type": "code",
   "execution_count": 20,
   "metadata": {},
   "outputs": [],
   "source": [
    "df_filtered_singapor = df_singapor[filtered_columns]\n",
    "df_filtered_singapor.rename(columns={'location.lat': 'lat', 'location.lng': 'lng'}, inplace=True)\n",
    "df_filtered_singapor = df_filtered_singapor[df_filtered_singapor.stack().str.contains('|'.join(colors_categories.keys()),flags=re.IGNORECASE).any(level=0)]"
   ]
  },
  {
   "cell_type": "markdown",
   "metadata": {},
   "source": [
    "<p style='font-family:Arial;'> This fonction below will return corresponding color for each categories that we have defined above </p>"
   ]
  },
  {
   "cell_type": "code",
   "execution_count": 21,
   "metadata": {},
   "outputs": [],
   "source": [
    "def get_color_categories(categories):\n",
    "    categories = categories.lower()\n",
    "    for cat in colors_categories.keys():\n",
    "        if cat in categories:\n",
    "            return colors_categories[cat]\n",
    "    return \"blue\""
   ]
  },
  {
   "cell_type": "code",
   "execution_count": 22,
   "metadata": {},
   "outputs": [
    {
     "data": {
      "text/html": [
       "<div>\n",
       "<style scoped>\n",
       "    .dataframe tbody tr th:only-of-type {\n",
       "        vertical-align: middle;\n",
       "    }\n",
       "\n",
       "    .dataframe tbody tr th {\n",
       "        vertical-align: top;\n",
       "    }\n",
       "\n",
       "    .dataframe thead th {\n",
       "        text-align: right;\n",
       "    }\n",
       "</style>\n",
       "<table border=\"1\" class=\"dataframe\">\n",
       "  <thead>\n",
       "    <tr style=\"text-align: right;\">\n",
       "      <th></th>\n",
       "      <th>name</th>\n",
       "      <th>categories</th>\n",
       "      <th>lat</th>\n",
       "      <th>lng</th>\n",
       "    </tr>\n",
       "  </thead>\n",
       "  <tbody>\n",
       "    <tr>\n",
       "      <th>1</th>\n",
       "      <td>Esplanade Park</td>\n",
       "      <td>Park</td>\n",
       "      <td>1.288968</td>\n",
       "      <td>103.853580</td>\n",
       "    </tr>\n",
       "    <tr>\n",
       "      <th>3</th>\n",
       "      <td>The Oval @ Singapore Cricket Club Pavilion</td>\n",
       "      <td>Restaurant</td>\n",
       "      <td>1.289006</td>\n",
       "      <td>103.852438</td>\n",
       "    </tr>\n",
       "    <tr>\n",
       "      <th>4</th>\n",
       "      <td>Odette Restaurant</td>\n",
       "      <td>French Restaurant</td>\n",
       "      <td>1.289679</td>\n",
       "      <td>103.851691</td>\n",
       "    </tr>\n",
       "    <tr>\n",
       "      <th>7</th>\n",
       "      <td>Funan</td>\n",
       "      <td>Shopping Mall</td>\n",
       "      <td>1.291333</td>\n",
       "      <td>103.850121</td>\n",
       "    </tr>\n",
       "    <tr>\n",
       "      <th>15</th>\n",
       "      <td>PPP Coffee</td>\n",
       "      <td>Coffee Shop</td>\n",
       "      <td>1.291628</td>\n",
       "      <td>103.849741</td>\n",
       "    </tr>\n",
       "  </tbody>\n",
       "</table>\n",
       "</div>"
      ],
      "text/plain": [
       "                                          name         categories       lat  \\\n",
       "1                               Esplanade Park               Park  1.288968   \n",
       "3   The Oval @ Singapore Cricket Club Pavilion         Restaurant  1.289006   \n",
       "4                            Odette Restaurant  French Restaurant  1.289679   \n",
       "7                                        Funan      Shopping Mall  1.291333   \n",
       "15                                  PPP Coffee        Coffee Shop  1.291628   \n",
       "\n",
       "           lng  \n",
       "1   103.853580  \n",
       "3   103.852438  \n",
       "4   103.851691  \n",
       "7   103.850121  \n",
       "15  103.849741  "
      ]
     },
     "execution_count": 22,
     "metadata": {},
     "output_type": "execute_result"
    }
   ],
   "source": [
    "df_filtered_singapor.head()"
   ]
  },
  {
   "cell_type": "code",
   "execution_count": 23,
   "metadata": {},
   "outputs": [
    {
     "data": {
      "text/html": [
       "<div>\n",
       "<style scoped>\n",
       "    .dataframe tbody tr th:only-of-type {\n",
       "        vertical-align: middle;\n",
       "    }\n",
       "\n",
       "    .dataframe tbody tr th {\n",
       "        vertical-align: top;\n",
       "    }\n",
       "\n",
       "    .dataframe thead th {\n",
       "        text-align: right;\n",
       "    }\n",
       "</style>\n",
       "<table border=\"1\" class=\"dataframe\">\n",
       "  <thead>\n",
       "    <tr style=\"text-align: right;\">\n",
       "      <th></th>\n",
       "      <th>name</th>\n",
       "      <th>categories</th>\n",
       "      <th>lat</th>\n",
       "      <th>lng</th>\n",
       "    </tr>\n",
       "  </thead>\n",
       "  <tbody>\n",
       "    <tr>\n",
       "      <th>6</th>\n",
       "      <td>SUSHISAMBA</td>\n",
       "      <td>Sushi Restaurant</td>\n",
       "      <td>51.512232</td>\n",
       "      <td>-0.122371</td>\n",
       "    </tr>\n",
       "    <tr>\n",
       "      <th>7</th>\n",
       "      <td>Covent Garden Market</td>\n",
       "      <td>Shopping Plaza</td>\n",
       "      <td>51.511977</td>\n",
       "      <td>-0.122799</td>\n",
       "    </tr>\n",
       "    <tr>\n",
       "      <th>8</th>\n",
       "      <td>Lundenwic</td>\n",
       "      <td>Coffee Shop</td>\n",
       "      <td>51.512823</td>\n",
       "      <td>-0.118343</td>\n",
       "    </tr>\n",
       "    <tr>\n",
       "      <th>13</th>\n",
       "      <td>Sticks'n'Sushi</td>\n",
       "      <td>Sushi Restaurant</td>\n",
       "      <td>51.511038</td>\n",
       "      <td>-0.123655</td>\n",
       "    </tr>\n",
       "    <tr>\n",
       "      <th>15</th>\n",
       "      <td>Southbank Skate Park</td>\n",
       "      <td>Skate Park</td>\n",
       "      <td>51.506911</td>\n",
       "      <td>-0.116636</td>\n",
       "    </tr>\n",
       "  </tbody>\n",
       "</table>\n",
       "</div>"
      ],
      "text/plain": [
       "                    name        categories        lat       lng\n",
       "6             SUSHISAMBA  Sushi Restaurant  51.512232 -0.122371\n",
       "7   Covent Garden Market    Shopping Plaza  51.511977 -0.122799\n",
       "8              Lundenwic       Coffee Shop  51.512823 -0.118343\n",
       "13        Sticks'n'Sushi  Sushi Restaurant  51.511038 -0.123655\n",
       "15  Southbank Skate Park        Skate Park  51.506911 -0.116636"
      ]
     },
     "execution_count": 23,
     "metadata": {},
     "output_type": "execute_result"
    }
   ],
   "source": [
    "df_filtered_london.head()"
   ]
  },
  {
   "cell_type": "markdown",
   "metadata": {},
   "source": [
    "### Displaying map and result"
   ]
  },
  {
   "cell_type": "code",
   "execution_count": 24,
   "metadata": {},
   "outputs": [
    {
     "data": {
      "text/html": [
       "<div style=\"width:100%;\"><div style=\"position:relative;width:100%;height:0;padding-bottom:60%;\"><span style=\"color:#565656\">Make this Notebook Trusted to load map: File -> Trust Notebook</span><iframe src=\"about:blank\" style=\"position:absolute;width:100%;height:100%;left:0;top:0;border:none !important;\" data-html=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 onload=\"this.contentDocument.open();this.contentDocument.write(atob(this.getAttribute('data-html')));this.contentDocument.close();\" allowfullscreen webkitallowfullscreen mozallowfullscreen></iframe></div></div>"
      ],
      "text/plain": [
       "<folium.folium.Map at 0x120fd95f8>"
      ]
     },
     "execution_count": 24,
     "metadata": {},
     "output_type": "execute_result"
    }
   ],
   "source": [
    "map_london = folium.Map(location=[london_geo['lat'], london_geo['lng']], zoom_start=14)\n",
    "\n",
    "# add markers to map\n",
    "for lat, lng, label,categorie in zip(df_filtered_london['lat'], df_filtered_london['lng'], \n",
    "                                     df_filtered_london['name'],df_filtered_london['categories']):\n",
    "    label = folium.Popup(label, parse_html=True)\n",
    "    folium.CircleMarker(\n",
    "        [lat, lng],\n",
    "        radius=5,\n",
    "        popup=label,\n",
    "        color= get_color_categories(categorie),\n",
    "        fill=True,\n",
    "        fill_color='#3186cc',\n",
    "        fill_opacity=0.7,\n",
    "        parse_html=False).add_to(map_london)  \n",
    "map_london"
   ]
  },
  {
   "cell_type": "code",
   "execution_count": 25,
   "metadata": {},
   "outputs": [
    {
     "data": {
      "text/html": [
       "<div style=\"width:100%;\"><div style=\"position:relative;width:100%;height:0;padding-bottom:60%;\"><span style=\"color:#565656\">Make this Notebook Trusted to load map: File -> Trust Notebook</span><iframe src=\"about:blank\" style=\"position:absolute;width:100%;height:100%;left:0;top:0;border:none !important;\" data-html=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 onload=\"this.contentDocument.open();this.contentDocument.write(atob(this.getAttribute('data-html')));this.contentDocument.close();\" allowfullscreen webkitallowfullscreen mozallowfullscreen></iframe></div></div>"
      ],
      "text/plain": [
       "<folium.folium.Map at 0x12104b400>"
      ]
     },
     "execution_count": 25,
     "metadata": {},
     "output_type": "execute_result"
    }
   ],
   "source": [
    "map_singapor = folium.Map(location=[singapor_geo['lat'], singapor_geo['lng']], zoom_start=14)\n",
    "\n",
    "# add markers to map\n",
    "for lat, lng, label,categorie in zip(df_filtered_singapor['lat'], df_filtered_singapor['lng'], \n",
    "                                     df_filtered_singapor['name'],df_filtered_singapor['categories']):\n",
    "    label = folium.Popup(label, parse_html=True)\n",
    "    folium.CircleMarker(\n",
    "        [lat, lng],\n",
    "        radius=5,\n",
    "        popup=label,\n",
    "        color= get_color_categories(categorie),\n",
    "        fill=True,\n",
    "        fill_color='#3186cc',\n",
    "        fill_opacity=0.7,\n",
    "        parse_html=False).add_to(map_singapor)  \n",
    "map_singapor"
   ]
  },
  {
   "cell_type": "markdown",
   "metadata": {},
   "source": [
    "<h3 style='color:blue'>Result </h3>"
   ]
  },
  {
   "cell_type": "markdown",
   "metadata": {},
   "source": [
    "<p style='font-family:Arial;'> Let define a function that return the total result we have in a given categories </p>"
   ]
  },
  {
   "cell_type": "code",
   "execution_count": 39,
   "metadata": {},
   "outputs": [],
   "source": [
    "def total_categories(df, city):\n",
    "    result = {}\n",
    "    for categories in colors_categories.keys():\n",
    "        total = df.categories.str.contains(categories, flags=re.IGNORECASE).sum()\n",
    "        result[categories] = total\n",
    "    return result\n",
    "        "
   ]
  },
  {
   "cell_type": "code",
   "execution_count": null,
   "metadata": {},
   "outputs": [],
   "source": [
    "<p style='font-family:Arial;'> We apply the total_cetagories function to our da"
   ]
  },
  {
   "cell_type": "code",
   "execution_count": 40,
   "metadata": {},
   "outputs": [
    {
     "data": {
      "text/plain": [
       "{'restaurant': 13, 'park': 2, 'coffee': 3, 'shopping': 1}"
      ]
     },
     "execution_count": 40,
     "metadata": {},
     "output_type": "execute_result"
    }
   ],
   "source": [
    "result_london = total_categories(df_filtered_london, \"london\")\n",
    "result_london"
   ]
  },
  {
   "cell_type": "code",
   "execution_count": 41,
   "metadata": {},
   "outputs": [
    {
     "data": {
      "text/plain": [
       "{'restaurant': 26, 'park': 1, 'coffee': 2, 'shopping': 4}"
      ]
     },
     "execution_count": 41,
     "metadata": {},
     "output_type": "execute_result"
    }
   ],
   "source": [
    "result_singapore = total_categories(df_filtered_singapor, \"singapor\")\n",
    "result_singapore"
   ]
  },
  {
   "cell_type": "code",
   "execution_count": 42,
   "metadata": {},
   "outputs": [
    {
     "data": {
      "text/plain": [
       "[{'categories': 'restaurant', 'total_london': 13, 'total_singapore': 26},\n",
       " {'categories': 'park', 'total_london': 2, 'total_singapore': 1},\n",
       " {'categories': 'coffee', 'total_london': 3, 'total_singapore': 2},\n",
       " {'categories': 'shopping', 'total_london': 1, 'total_singapore': 4}]"
      ]
     },
     "execution_count": 42,
     "metadata": {},
     "output_type": "execute_result"
    }
   ],
   "source": [
    "result = []\n",
    "for key in result_london.keys():\n",
    "    result.append({'categories': key, 'total_london': result_london[key], 'total_singapore':result_singapore[key]})\n",
    "result"
   ]
  },
  {
   "cell_type": "code",
   "execution_count": 46,
   "metadata": {},
   "outputs": [
    {
     "data": {
      "text/html": [
       "<div>\n",
       "<style scoped>\n",
       "    .dataframe tbody tr th:only-of-type {\n",
       "        vertical-align: middle;\n",
       "    }\n",
       "\n",
       "    .dataframe tbody tr th {\n",
       "        vertical-align: top;\n",
       "    }\n",
       "\n",
       "    .dataframe thead th {\n",
       "        text-align: right;\n",
       "    }\n",
       "</style>\n",
       "<table border=\"1\" class=\"dataframe\">\n",
       "  <thead>\n",
       "    <tr style=\"text-align: right;\">\n",
       "      <th></th>\n",
       "      <th>total_london</th>\n",
       "      <th>total_singapore</th>\n",
       "    </tr>\n",
       "    <tr>\n",
       "      <th>categories</th>\n",
       "      <th></th>\n",
       "      <th></th>\n",
       "    </tr>\n",
       "  </thead>\n",
       "  <tbody>\n",
       "    <tr>\n",
       "      <th>restaurant</th>\n",
       "      <td>13</td>\n",
       "      <td>26</td>\n",
       "    </tr>\n",
       "    <tr>\n",
       "      <th>park</th>\n",
       "      <td>2</td>\n",
       "      <td>1</td>\n",
       "    </tr>\n",
       "    <tr>\n",
       "      <th>coffee</th>\n",
       "      <td>3</td>\n",
       "      <td>2</td>\n",
       "    </tr>\n",
       "    <tr>\n",
       "      <th>shopping</th>\n",
       "      <td>1</td>\n",
       "      <td>4</td>\n",
       "    </tr>\n",
       "  </tbody>\n",
       "</table>\n",
       "</div>"
      ],
      "text/plain": [
       "            total_london  total_singapore\n",
       "categories                               \n",
       "restaurant            13               26\n",
       "park                   2                1\n",
       "coffee                 3                2\n",
       "shopping               1                4"
      ]
     },
     "execution_count": 46,
     "metadata": {},
     "output_type": "execute_result"
    }
   ],
   "source": [
    "df_categories = pd.DataFrame(result)\n",
    "df_categories.set_index(\"categories\",inplace=True)\n",
    "df_categories"
   ]
  },
  {
   "cell_type": "code",
   "execution_count": 51,
   "metadata": {},
   "outputs": [
    {
     "data": {
      "image/png": "[encoded data removed]",
      "text/plain": [
       "<Figure size 432x288 with 1 Axes>"
      ]
     },
     "metadata": {
      "needs_background": "light"
     },
     "output_type": "display_data"
    }
   ],
   "source": [
    "df_categories.plot.bar();"
   ]
  },
  {
   "cell_type": "markdown",
   "metadata": {},
   "source": [
    "<h3 style=color:blue> Discussion </h3> "
   ]
  },
  {
   "cell_type": "markdown",
   "metadata": {},
   "source": [
    "<p style='text-align:justify;font-family:Arial;'>We can easily see that in London we have more restaurant and variety in the city. But in Singapore we have more shopping center and coffee shop than London. We can resume this result that Singapore is a best place for making shopping than London but for eating London is a good city. If someone want to open a restaurant, we can say that London is a good place.</p>"
   ]
  },
  {
   "cell_type": "markdown",
   "metadata": {},
   "source": [
    "<h3 style=color:blue> Conclusion </h3> "
   ]
  },
  {
   "cell_type": "markdown",
   "metadata": {},
   "source": [
    "<p style='text-align:justify'>This report attempts to make a comparison of two big city using some king of categories. We can use more data to make a better comparison and also predict where is the place to make a business in food or in clothes. If someone want to start a business in these two cities in food or an clothes in these two cities this report can be a good start.</p>"
   ]
  },
  {
   "cell_type": "code",
   "execution_count": null,
   "metadata": {},
   "outputs": [],
   "source": []
  }
 ],
 "metadata": {
  "kernelspec": {
   "display_name": "Python 3",
   "language": "python",
   "name": "python3"
  },
  "language_info": {
   "codemirror_mode": {
    "name": "ipython",
    "version": 3
   },
   "file_extension": ".py",
   "mimetype": "text/x-python",
   "name": "python",
   "nbconvert_exporter": "python",
   "pygments_lexer": "ipython3",
   "version": "3.7.2"
  }
 },
 "nbformat": 4,
 "nbformat_minor": 2
}
