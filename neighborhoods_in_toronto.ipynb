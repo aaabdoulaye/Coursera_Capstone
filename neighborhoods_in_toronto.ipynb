{
 "cells": [
  {
   "cell_type": "markdown",
   "metadata": {},
   "source": [
    "# Neighborhoods in Toronto Project\n",
    "### import library"
   ]
  },
  {
   "cell_type": "code",
   "execution_count": 1,
   "metadata": {},
   "outputs": [],
   "source": [
    "import pandas as pd\n",
    "import numpy as np \n",
    "import urllib.request\n",
    "from bs4 import BeautifulSoup"
   ]
  },
  {
   "cell_type": "markdown",
   "metadata": {},
   "source": [
    "### Retrieve toronto postal code data"
   ]
  },
  {
   "cell_type": "markdown",
   "metadata": {},
   "source": [
    "open url with urllib and getting transforming data with beautiful soup"
   ]
  },
  {
   "cell_type": "code",
   "execution_count": 2,
   "metadata": {},
   "outputs": [],
   "source": [
    "url = \"https://en.wikipedia.org/wiki/List_of_postal_codes_of_Canada:_M\"\n",
    "page = urllib.request.urlopen(url)"
   ]
  },
  {
   "cell_type": "code",
   "execution_count": 3,
   "metadata": {},
   "outputs": [],
   "source": [
    "soup = BeautifulSoup(page,\"html\")"
   ]
  },
  {
   "cell_type": "markdown",
   "metadata": {},
   "source": [
    "making a fonction for transforming td html content to a clean text"
   ]
  },
  {
   "cell_type": "code",
   "execution_count": 4,
   "metadata": {},
   "outputs": [],
   "source": [
    "def normalize_text(text):\n",
    "    return text.find(text=True).replace(\"\\n\",\"\").strip()"
   ]
  },
  {
   "cell_type": "markdown",
   "metadata": {},
   "source": [
    "1. define a dictionnary that will content all data\n",
    "2. find data from html table\n",
    "3. add data into the dictionnary depending on criteria"
   ]
  },
  {
   "cell_type": "code",
   "execution_count": 5,
   "metadata": {},
   "outputs": [],
   "source": [
    "data = {'postal_code': [], 'Borough': [], 'Neighborhood': []}\n",
    "table=soup.find('table', class_='wikitable sortable')\n",
    "for row in table.findAll(\"tr\"):\n",
    "    cells=row.findAll('td')\n",
    "    if len(cells)==3:\n",
    "        postal_code = normalize_text(cells[0]) \n",
    "        borough = normalize_text(cells[1])\n",
    "        neigh  = normalize_text(cells[2])\n",
    "        if borough.lower() != 'not assigned':\n",
    "            if neigh.lower() == 'not assigned':\n",
    "                neigh = borough\n",
    "            if postal_code not in data[\"postal_code\"]:\n",
    "                data[\"postal_code\"].append(postal_code)\n",
    "                data[\"Borough\"].append(borough)\n",
    "                data[\"Neighborhood\"].append(neigh)\n",
    "            else:\n",
    "                index = data[\"postal_code\"].index(postal_code)\n",
    "                data[\"Neighborhood\"][index] = \"{},{}\".format(data[\"Neighborhood\"][index],neigh)"
   ]
  },
  {
   "cell_type": "markdown",
   "metadata": {},
   "source": [
    "transform data into dataframe and print the result"
   ]
  },
  {
   "cell_type": "code",
   "execution_count": 6,
   "metadata": {},
   "outputs": [
    {
     "data": {
      "text/html": [
       "<div>\n",
       "<style scoped>\n",
       "    .dataframe tbody tr th:only-of-type {\n",
       "        vertical-align: middle;\n",
       "    }\n",
       "\n",
       "    .dataframe tbody tr th {\n",
       "        vertical-align: top;\n",
       "    }\n",
       "\n",
       "    .dataframe thead th {\n",
       "        text-align: right;\n",
       "    }\n",
       "</style>\n",
       "<table border=\"1\" class=\"dataframe\">\n",
       "  <thead>\n",
       "    <tr style=\"text-align: right;\">\n",
       "      <th></th>\n",
       "      <th>Postal Code</th>\n",
       "      <th>Borough</th>\n",
       "      <th>Neighboorhood</th>\n",
       "    </tr>\n",
       "  </thead>\n",
       "  <tbody>\n",
       "    <tr>\n",
       "      <th>0</th>\n",
       "      <td>M3A</td>\n",
       "      <td>North York</td>\n",
       "      <td>Parkwoods</td>\n",
       "    </tr>\n",
       "    <tr>\n",
       "      <th>1</th>\n",
       "      <td>M4A</td>\n",
       "      <td>North York</td>\n",
       "      <td>Victoria Village</td>\n",
       "    </tr>\n",
       "    <tr>\n",
       "      <th>2</th>\n",
       "      <td>M5A</td>\n",
       "      <td>Downtown Toronto</td>\n",
       "      <td>Regent Park, Harbourfront</td>\n",
       "    </tr>\n",
       "    <tr>\n",
       "      <th>3</th>\n",
       "      <td>M6A</td>\n",
       "      <td>North York</td>\n",
       "      <td>Lawrence Manor, Lawrence Heights</td>\n",
       "    </tr>\n",
       "    <tr>\n",
       "      <th>4</th>\n",
       "      <td>M7A</td>\n",
       "      <td>Downtown Toronto</td>\n",
       "      <td>Queen's Park, Ontario Provincial Government</td>\n",
       "    </tr>\n",
       "  </tbody>\n",
       "</table>\n",
       "</div>"
      ],
      "text/plain": [
       "  Postal Code           Borough                                Neighboorhood\n",
       "0         M3A        North York                                    Parkwoods\n",
       "1         M4A        North York                             Victoria Village\n",
       "2         M5A  Downtown Toronto                    Regent Park, Harbourfront\n",
       "3         M6A        North York             Lawrence Manor, Lawrence Heights\n",
       "4         M7A  Downtown Toronto  Queen's Park, Ontario Provincial Government"
      ]
     },
     "execution_count": 6,
     "metadata": {},
     "output_type": "execute_result"
    }
   ],
   "source": [
    "df = pd.DataFrame(data['postal_code'], columns=['Postal Code'])\n",
    "df['Borough'] = data['Borough']\n",
    "df['Neighboorhood'] = data['Neighborhood']\n",
    "df.head()"
   ]
  },
  {
   "cell_type": "code",
   "execution_count": 7,
   "metadata": {},
   "outputs": [
    {
     "data": {
      "text/plain": [
       "(103, 3)"
      ]
     },
     "execution_count": 7,
     "metadata": {},
     "output_type": "execute_result"
    }
   ],
   "source": [
    "df.shape"
   ]
  },
  {
   "cell_type": "code",
   "execution_count": 24,
   "metadata": {},
   "outputs": [],
   "source": [
    "geo_df = pd.read_csv(\"Geospatial_Coordinates.csv\")"
   ]
  },
  {
   "cell_type": "code",
   "execution_count": 39,
   "metadata": {},
   "outputs": [
    {
     "data": {
      "text/plain": [
       "(103, 3)"
      ]
     },
     "execution_count": 39,
     "metadata": {},
     "output_type": "execute_result"
    }
   ],
   "source": [
    "geo_df.shape"
   ]
  },
  {
   "cell_type": "code",
   "execution_count": 34,
   "metadata": {},
   "outputs": [],
   "source": [
    "df_ll = pd.merge(df,geo_df,on='Postal Code')"
   ]
  },
  {
   "cell_type": "code",
   "execution_count": 36,
   "metadata": {},
   "outputs": [
    {
     "data": {
      "text/html": [
       "<div>\n",
       "<style scoped>\n",
       "    .dataframe tbody tr th:only-of-type {\n",
       "        vertical-align: middle;\n",
       "    }\n",
       "\n",
       "    .dataframe tbody tr th {\n",
       "        vertical-align: top;\n",
       "    }\n",
       "\n",
       "    .dataframe thead th {\n",
       "        text-align: right;\n",
       "    }\n",
       "</style>\n",
       "<table border=\"1\" class=\"dataframe\">\n",
       "  <thead>\n",
       "    <tr style=\"text-align: right;\">\n",
       "      <th></th>\n",
       "      <th>Postal Code</th>\n",
       "      <th>Borough</th>\n",
       "      <th>Neighboorhood</th>\n",
       "      <th>Latitude</th>\n",
       "      <th>Longitude</th>\n",
       "    </tr>\n",
       "  </thead>\n",
       "  <tbody>\n",
       "    <tr>\n",
       "      <th>0</th>\n",
       "      <td>M3A</td>\n",
       "      <td>North York</td>\n",
       "      <td>Parkwoods</td>\n",
       "      <td>43.753259</td>\n",
       "      <td>-79.329656</td>\n",
       "    </tr>\n",
       "    <tr>\n",
       "      <th>1</th>\n",
       "      <td>M4A</td>\n",
       "      <td>North York</td>\n",
       "      <td>Victoria Village</td>\n",
       "      <td>43.725882</td>\n",
       "      <td>-79.315572</td>\n",
       "    </tr>\n",
       "    <tr>\n",
       "      <th>2</th>\n",
       "      <td>M5A</td>\n",
       "      <td>Downtown Toronto</td>\n",
       "      <td>Regent Park, Harbourfront</td>\n",
       "      <td>43.654260</td>\n",
       "      <td>-79.360636</td>\n",
       "    </tr>\n",
       "    <tr>\n",
       "      <th>3</th>\n",
       "      <td>M6A</td>\n",
       "      <td>North York</td>\n",
       "      <td>Lawrence Manor, Lawrence Heights</td>\n",
       "      <td>43.718518</td>\n",
       "      <td>-79.464763</td>\n",
       "    </tr>\n",
       "    <tr>\n",
       "      <th>4</th>\n",
       "      <td>M7A</td>\n",
       "      <td>Downtown Toronto</td>\n",
       "      <td>Queen's Park, Ontario Provincial Government</td>\n",
       "      <td>43.662301</td>\n",
       "      <td>-79.389494</td>\n",
       "    </tr>\n",
       "    <tr>\n",
       "      <th>5</th>\n",
       "      <td>M9A</td>\n",
       "      <td>Etobicoke</td>\n",
       "      <td>Islington Avenue, Humber Valley Village</td>\n",
       "      <td>43.667856</td>\n",
       "      <td>-79.532242</td>\n",
       "    </tr>\n",
       "    <tr>\n",
       "      <th>6</th>\n",
       "      <td>M1B</td>\n",
       "      <td>Scarborough</td>\n",
       "      <td>Malvern, Rouge</td>\n",
       "      <td>43.806686</td>\n",
       "      <td>-79.194353</td>\n",
       "    </tr>\n",
       "    <tr>\n",
       "      <th>7</th>\n",
       "      <td>M3B</td>\n",
       "      <td>North York</td>\n",
       "      <td>Don Mills</td>\n",
       "      <td>43.745906</td>\n",
       "      <td>-79.352188</td>\n",
       "    </tr>\n",
       "    <tr>\n",
       "      <th>8</th>\n",
       "      <td>M4B</td>\n",
       "      <td>East York</td>\n",
       "      <td>Parkview Hill, Woodbine Gardens</td>\n",
       "      <td>43.706397</td>\n",
       "      <td>-79.309937</td>\n",
       "    </tr>\n",
       "    <tr>\n",
       "      <th>9</th>\n",
       "      <td>M5B</td>\n",
       "      <td>Downtown Toronto</td>\n",
       "      <td>Garden District, Ryerson</td>\n",
       "      <td>43.657162</td>\n",
       "      <td>-79.378937</td>\n",
       "    </tr>\n",
       "  </tbody>\n",
       "</table>\n",
       "</div>"
      ],
      "text/plain": [
       "  Postal Code           Borough                                Neighboorhood  \\\n",
       "0         M3A        North York                                    Parkwoods   \n",
       "1         M4A        North York                             Victoria Village   \n",
       "2         M5A  Downtown Toronto                    Regent Park, Harbourfront   \n",
       "3         M6A        North York             Lawrence Manor, Lawrence Heights   \n",
       "4         M7A  Downtown Toronto  Queen's Park, Ontario Provincial Government   \n",
       "5         M9A         Etobicoke      Islington Avenue, Humber Valley Village   \n",
       "6         M1B       Scarborough                               Malvern, Rouge   \n",
       "7         M3B        North York                                    Don Mills   \n",
       "8         M4B         East York              Parkview Hill, Woodbine Gardens   \n",
       "9         M5B  Downtown Toronto                     Garden District, Ryerson   \n",
       "\n",
       "    Latitude  Longitude  \n",
       "0  43.753259 -79.329656  \n",
       "1  43.725882 -79.315572  \n",
       "2  43.654260 -79.360636  \n",
       "3  43.718518 -79.464763  \n",
       "4  43.662301 -79.389494  \n",
       "5  43.667856 -79.532242  \n",
       "6  43.806686 -79.194353  \n",
       "7  43.745906 -79.352188  \n",
       "8  43.706397 -79.309937  \n",
       "9  43.657162 -79.378937  "
      ]
     },
     "execution_count": 36,
     "metadata": {},
     "output_type": "execute_result"
    }
   ],
   "source": [
    "df_ll.head(10)"
   ]
  },
  {
   "cell_type": "markdown",
   "metadata": {},
   "source": [
    "Use geopy ti get the latitude and longitude of toronto city "
   ]
  },
  {
   "cell_type": "code",
   "execution_count": 58,
   "metadata": {},
   "outputs": [],
   "source": [
    "from geopy.geocoders import Nominatim \n",
    "import re\n",
    "import folium"
   ]
  },
  {
   "cell_type": "code",
   "execution_count": 54,
   "metadata": {},
   "outputs": [
    {
     "name": "stdout",
     "output_type": "stream",
     "text": [
      "The geograpical coordinate of New York City are 43.6534817, -79.3839347.\n"
     ]
    }
   ],
   "source": [
    "address = 'Toronto, CA'\n",
    "\n",
    "geolocator = Nominatim(user_agent=\"ca_explorer\")\n",
    "location = geolocator.geocode(address)\n",
    "latitude = location.latitude\n",
    "longitude = location.longitude\n",
    "print('The geograpical coordinate of New York City are {}, {}.'.format(latitude, longitude))"
   ]
  },
  {
   "cell_type": "markdown",
   "metadata": {},
   "source": [
    "getting only boroughs containing the name Toronto"
   ]
  },
  {
   "cell_type": "code",
   "execution_count": 56,
   "metadata": {},
   "outputs": [
    {
     "data": {
      "text/plain": [
       "(39, 5)"
      ]
     },
     "execution_count": 56,
     "metadata": {},
     "output_type": "execute_result"
    }
   ],
   "source": [
    "toronto_data = df_ll[df_ll['Borough'].str.contains('Toronto',flags=re.IGNORECASE, regex=True)].reset_index(drop=True)\n",
    "toronto_data.shape"
   ]
  },
  {
   "cell_type": "markdown",
   "metadata": {},
   "source": [
    "explore manhattan neighboorhood"
   ]
  },
  {
   "cell_type": "code",
   "execution_count": 60,
   "metadata": {},
   "outputs": [
    {
     "data": {
      "text/html": [
       "<div style=\"width:100%;\"><div style=\"position:relative;width:100%;height:0;padding-bottom:60%;\"><span style=\"color:#565656\">Make this Notebook Trusted to load map: File -> Trust Notebook</span><iframe src=\"about:blank\" style=\"position:absolute;width:100%;height:100%;left:0;top:0;border:none !important;\" data-html=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 onload=\"this.contentDocument.open();this.contentDocument.write(atob(this.getAttribute('data-html')));this.contentDocument.close();\" allowfullscreen webkitallowfullscreen mozallowfullscreen></iframe></div></div>"
      ],
      "text/plain": [
       "<folium.folium.Map at 0x121d0c390>"
      ]
     },
     "execution_count": 60,
     "metadata": {},
     "output_type": "execute_result"
    }
   ],
   "source": [
    "map_toronto = folium.Map(location=[latitude, longitude], zoom_start=11)\n",
    "\n",
    "# add markers to map\n",
    "for lat, lng, label in zip(toronto_data['Latitude'], toronto_data['Longitude'], toronto_data['Neighboorhood']):\n",
    "    label = folium.Popup(label, parse_html=True)\n",
    "    folium.CircleMarker(\n",
    "        [lat, lng],\n",
    "        radius=5,\n",
    "        popup=label,\n",
    "        color='blue',\n",
    "        fill=True,\n",
    "        fill_color='#3186cc',\n",
    "        fill_opacity=0.7,\n",
    "        parse_html=False).add_to(map_toronto)  \n",
    "    \n",
    "map_toronto"
   ]
  },
  {
   "cell_type": "code",
   "execution_count": null,
   "metadata": {},
   "outputs": [],
   "source": []
  }
 ],
 "metadata": {
  "kernelspec": {
   "display_name": "Python 3",
   "language": "python",
   "name": "python3"
  },
  "language_info": {
   "codemirror_mode": {
    "name": "ipython",
    "version": 3
   },
   "file_extension": ".py",
   "mimetype": "text/x-python",
   "name": "python",
   "nbconvert_exporter": "python",
   "pygments_lexer": "ipython3",
   "version": "3.7.2"
  }
 },
 "nbformat": 4,
 "nbformat_minor": 2
}
