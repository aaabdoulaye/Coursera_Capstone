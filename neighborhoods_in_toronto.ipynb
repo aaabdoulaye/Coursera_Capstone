{
 "cells": [
  {
   "cell_type": "markdown",
   "metadata": {},
   "source": [
    "# Neighborhoods in Toronto Project\n",
    "### import library"
   ]
  },
  {
   "cell_type": "code",
   "execution_count": 1,
   "metadata": {},
   "outputs": [],
   "source": [
    "import pandas as pd\n",
    "import numpy as np \n",
    "import urllib.request\n",
    "from bs4 import BeautifulSoup"
   ]
  },
  {
   "cell_type": "markdown",
   "metadata": {},
   "source": [
    "### Retrieve toronto postal code data"
   ]
  },
  {
   "cell_type": "markdown",
   "metadata": {},
   "source": [
    "open url with urllib and getting transforming data with beautiful soup"
   ]
  },
  {
   "cell_type": "code",
   "execution_count": 2,
   "metadata": {},
   "outputs": [],
   "source": [
    "url = \"https://en.wikipedia.org/wiki/List_of_postal_codes_of_Canada:_M\"\n",
    "page = urllib.request.urlopen(url)"
   ]
  },
  {
   "cell_type": "code",
   "execution_count": 4,
   "metadata": {},
   "outputs": [],
   "source": [
    "soup = BeautifulSoup(page,\"html\")"
   ]
  },
  {
   "cell_type": "markdown",
   "metadata": {},
   "source": [
    "making a fonction for transforming td html content to a clean text"
   ]
  },
  {
   "cell_type": "code",
   "execution_count": 5,
   "metadata": {},
   "outputs": [],
   "source": [
    "def normalize_text(text):\n",
    "    return text.find(text=True).replace(\"\\n\",\"\").strip()"
   ]
  },
  {
   "cell_type": "markdown",
   "metadata": {},
   "source": [
    "1. define a dictionnary that will content all data\n",
    "2. find data from html table\n",
    "3. add data into the dictionnary depending on criteria"
   ]
  },
  {
   "cell_type": "code",
   "execution_count": 6,
   "metadata": {},
   "outputs": [
    {
     "ename": "AttributeError",
     "evalue": "'NoneType' object has no attribute 'findAll'",
     "output_type": "error",
     "traceback": [
      "\u001b[0;31m---------------------------------------------------------------------------\u001b[0m",
      "\u001b[0;31mAttributeError\u001b[0m                            Traceback (most recent call last)",
      "\u001b[0;32m<ipython-input-6-1c1993d0f393>\u001b[0m in \u001b[0;36m<module>\u001b[0;34m\u001b[0m\n\u001b[1;32m      1\u001b[0m \u001b[0mdata\u001b[0m \u001b[0;34m=\u001b[0m \u001b[0;34m{\u001b[0m\u001b[0;34m'postal_code'\u001b[0m\u001b[0;34m:\u001b[0m \u001b[0;34m[\u001b[0m\u001b[0;34m]\u001b[0m\u001b[0;34m,\u001b[0m \u001b[0;34m'Borough'\u001b[0m\u001b[0;34m:\u001b[0m \u001b[0;34m[\u001b[0m\u001b[0;34m]\u001b[0m\u001b[0;34m,\u001b[0m \u001b[0;34m'Neighborhood'\u001b[0m\u001b[0;34m:\u001b[0m \u001b[0;34m[\u001b[0m\u001b[0;34m]\u001b[0m\u001b[0;34m}\u001b[0m\u001b[0;34m\u001b[0m\u001b[0;34m\u001b[0m\u001b[0m\n\u001b[1;32m      2\u001b[0m \u001b[0mtable\u001b[0m\u001b[0;34m=\u001b[0m\u001b[0msoup\u001b[0m\u001b[0;34m.\u001b[0m\u001b[0mfind\u001b[0m\u001b[0;34m(\u001b[0m\u001b[0;34m'table'\u001b[0m\u001b[0;34m,\u001b[0m \u001b[0mclass_\u001b[0m\u001b[0;34m=\u001b[0m\u001b[0;34m'wikitable sortable'\u001b[0m\u001b[0;34m)\u001b[0m\u001b[0;34m\u001b[0m\u001b[0;34m\u001b[0m\u001b[0m\n\u001b[0;32m----> 3\u001b[0;31m \u001b[0;32mfor\u001b[0m \u001b[0mrow\u001b[0m \u001b[0;32min\u001b[0m \u001b[0mtable\u001b[0m\u001b[0;34m.\u001b[0m\u001b[0mfindAll\u001b[0m\u001b[0;34m(\u001b[0m\u001b[0;34m\"tr\"\u001b[0m\u001b[0;34m)\u001b[0m\u001b[0;34m:\u001b[0m\u001b[0;34m\u001b[0m\u001b[0;34m\u001b[0m\u001b[0m\n\u001b[0m\u001b[1;32m      4\u001b[0m     \u001b[0mcells\u001b[0m\u001b[0;34m=\u001b[0m\u001b[0mrow\u001b[0m\u001b[0;34m.\u001b[0m\u001b[0mfindAll\u001b[0m\u001b[0;34m(\u001b[0m\u001b[0;34m'td'\u001b[0m\u001b[0;34m)\u001b[0m\u001b[0;34m\u001b[0m\u001b[0;34m\u001b[0m\u001b[0m\n\u001b[1;32m      5\u001b[0m     \u001b[0;32mif\u001b[0m \u001b[0mlen\u001b[0m\u001b[0;34m(\u001b[0m\u001b[0mcells\u001b[0m\u001b[0;34m)\u001b[0m\u001b[0;34m==\u001b[0m\u001b[0;36m3\u001b[0m\u001b[0;34m:\u001b[0m\u001b[0;34m\u001b[0m\u001b[0;34m\u001b[0m\u001b[0m\n",
      "\u001b[0;31mAttributeError\u001b[0m: 'NoneType' object has no attribute 'findAll'"
     ]
    }
   ],
   "source": [
    "data = {'postal_code': [], 'Borough': [], 'Neighborhood': []}\n",
    "table=soup.find('table', class_='wikitable sortable')\n",
    "for row in table.findAll(\"tr\"):\n",
    "    cells=row.findAll('td')\n",
    "    if len(cells)==3:\n",
    "        postal_code = normalize_text(cells[0]) \n",
    "        borough = normalize_text(cells[1])\n",
    "        neigh  = normalize_text(cells[2])\n",
    "        if borough.lower() != 'not assigned':\n",
    "            if neigh.lower() == 'not assigned':\n",
    "                neigh = borough\n",
    "            if postal_code not in data[\"postal_code\"]:\n",
    "                data[\"postal_code\"].append(postal_code)\n",
    "                data[\"Borough\"].append(borough)\n",
    "                data[\"Neighborhood\"].append(neigh)\n",
    "            else:\n",
    "                index = data[\"postal_code\"].index(postal_code)\n",
    "                data[\"Neighborhood\"][index] = \"{},{}\".format(data[\"Neighborhood\"][index],neigh)"
   ]
  },
  {
   "cell_type": "markdown",
   "metadata": {},
   "source": [
    "transform data into dataframe and print the result"
   ]
  },
  {
   "cell_type": "code",
   "execution_count": 6,
   "metadata": {},
   "outputs": [
    {
     "data": {
      "text/html": [
       "<div>\n",
       "<style scoped>\n",
       "    .dataframe tbody tr th:only-of-type {\n",
       "        vertical-align: middle;\n",
       "    }\n",
       "\n",
       "    .dataframe tbody tr th {\n",
       "        vertical-align: top;\n",
       "    }\n",
       "\n",
       "    .dataframe thead th {\n",
       "        text-align: right;\n",
       "    }\n",
       "</style>\n",
       "<table border=\"1\" class=\"dataframe\">\n",
       "  <thead>\n",
       "    <tr style=\"text-align: right;\">\n",
       "      <th></th>\n",
       "      <th>Postal Code</th>\n",
       "      <th>Borough</th>\n",
       "      <th>Neighboorhood</th>\n",
       "    </tr>\n",
       "  </thead>\n",
       "  <tbody>\n",
       "    <tr>\n",
       "      <th>0</th>\n",
       "      <td>M3A</td>\n",
       "      <td>North York</td>\n",
       "      <td>Parkwoods</td>\n",
       "    </tr>\n",
       "    <tr>\n",
       "      <th>1</th>\n",
       "      <td>M4A</td>\n",
       "      <td>North York</td>\n",
       "      <td>Victoria Village</td>\n",
       "    </tr>\n",
       "    <tr>\n",
       "      <th>2</th>\n",
       "      <td>M5A</td>\n",
       "      <td>Downtown Toronto</td>\n",
       "      <td>Regent Park, Harbourfront</td>\n",
       "    </tr>\n",
       "    <tr>\n",
       "      <th>3</th>\n",
       "      <td>M6A</td>\n",
       "      <td>North York</td>\n",
       "      <td>Lawrence Manor, Lawrence Heights</td>\n",
       "    </tr>\n",
       "    <tr>\n",
       "      <th>4</th>\n",
       "      <td>M7A</td>\n",
       "      <td>Downtown Toronto</td>\n",
       "      <td>Queen's Park, Ontario Provincial Government</td>\n",
       "    </tr>\n",
       "  </tbody>\n",
       "</table>\n",
       "</div>"
      ],
      "text/plain": [
       "  Postal Code           Borough                                Neighboorhood\n",
       "0         M3A        North York                                    Parkwoods\n",
       "1         M4A        North York                             Victoria Village\n",
       "2         M5A  Downtown Toronto                    Regent Park, Harbourfront\n",
       "3         M6A        North York             Lawrence Manor, Lawrence Heights\n",
       "4         M7A  Downtown Toronto  Queen's Park, Ontario Provincial Government"
      ]
     },
     "execution_count": 6,
     "metadata": {},
     "output_type": "execute_result"
    }
   ],
   "source": [
    "df = pd.DataFrame(data['postal_code'], columns=['Postal Code'])\n",
    "df['Borough'] = data['Borough']\n",
    "df['Neighboorhood'] = data['Neighborhood']\n",
    "df.head()"
   ]
  },
  {
   "cell_type": "code",
   "execution_count": 7,
   "metadata": {},
   "outputs": [
    {
     "data": {
      "text/plain": [
       "(103, 3)"
      ]
     },
     "execution_count": 7,
     "metadata": {},
     "output_type": "execute_result"
    }
   ],
   "source": [
    "df.shape"
   ]
  },
  {
   "cell_type": "code",
   "execution_count": 24,
   "metadata": {},
   "outputs": [],
   "source": [
    "geo_df = pd.read_csv(\"Geospatial_Coordinates.csv\")"
   ]
  },
  {
   "cell_type": "code",
   "execution_count": 39,
   "metadata": {},
   "outputs": [
    {
     "data": {
      "text/plain": [
       "(103, 3)"
      ]
     },
     "execution_count": 39,
     "metadata": {},
     "output_type": "execute_result"
    }
   ],
   "source": [
    "geo_df.shape"
   ]
  },
  {
   "cell_type": "code",
   "execution_count": 34,
   "metadata": {},
   "outputs": [],
   "source": [
    "df_ll = pd.merge(df,geo_df,on='Postal Code')"
   ]
  },
  {
   "cell_type": "code",
   "execution_count": 36,
   "metadata": {},
   "outputs": [
    {
     "data": {
      "text/html": [
       "<div>\n",
       "<style scoped>\n",
       "    .dataframe tbody tr th:only-of-type {\n",
       "        vertical-align: middle;\n",
       "    }\n",
       "\n",
       "    .dataframe tbody tr th {\n",
       "        vertical-align: top;\n",
       "    }\n",
       "\n",
       "    .dataframe thead th {\n",
       "        text-align: right;\n",
       "    }\n",
       "</style>\n",
       "<table border=\"1\" class=\"dataframe\">\n",
       "  <thead>\n",
       "    <tr style=\"text-align: right;\">\n",
       "      <th></th>\n",
       "      <th>Postal Code</th>\n",
       "      <th>Borough</th>\n",
       "      <th>Neighboorhood</th>\n",
       "      <th>Latitude</th>\n",
       "      <th>Longitude</th>\n",
       "    </tr>\n",
       "  </thead>\n",
       "  <tbody>\n",
       "    <tr>\n",
       "      <th>0</th>\n",
       "      <td>M3A</td>\n",
       "      <td>North York</td>\n",
       "      <td>Parkwoods</td>\n",
       "      <td>43.753259</td>\n",
       "      <td>-79.329656</td>\n",
       "    </tr>\n",
       "    <tr>\n",
       "      <th>1</th>\n",
       "      <td>M4A</td>\n",
       "      <td>North York</td>\n",
       "      <td>Victoria Village</td>\n",
       "      <td>43.725882</td>\n",
       "      <td>-79.315572</td>\n",
       "    </tr>\n",
       "    <tr>\n",
       "      <th>2</th>\n",
       "      <td>M5A</td>\n",
       "      <td>Downtown Toronto</td>\n",
       "      <td>Regent Park, Harbourfront</td>\n",
       "      <td>43.654260</td>\n",
       "      <td>-79.360636</td>\n",
       "    </tr>\n",
       "    <tr>\n",
       "      <th>3</th>\n",
       "      <td>M6A</td>\n",
       "      <td>North York</td>\n",
       "      <td>Lawrence Manor, Lawrence Heights</td>\n",
       "      <td>43.718518</td>\n",
       "      <td>-79.464763</td>\n",
       "    </tr>\n",
       "    <tr>\n",
       "      <th>4</th>\n",
       "      <td>M7A</td>\n",
       "      <td>Downtown Toronto</td>\n",
       "      <td>Queen's Park, Ontario Provincial Government</td>\n",
       "      <td>43.662301</td>\n",
       "      <td>-79.389494</td>\n",
       "    </tr>\n",
       "    <tr>\n",
       "      <th>5</th>\n",
       "      <td>M9A</td>\n",
       "      <td>Etobicoke</td>\n",
       "      <td>Islington Avenue, Humber Valley Village</td>\n",
       "      <td>43.667856</td>\n",
       "      <td>-79.532242</td>\n",
       "    </tr>\n",
       "    <tr>\n",
       "      <th>6</th>\n",
       "      <td>M1B</td>\n",
       "      <td>Scarborough</td>\n",
       "      <td>Malvern, Rouge</td>\n",
       "      <td>43.806686</td>\n",
       "      <td>-79.194353</td>\n",
       "    </tr>\n",
       "    <tr>\n",
       "      <th>7</th>\n",
       "      <td>M3B</td>\n",
       "      <td>North York</td>\n",
       "      <td>Don Mills</td>\n",
       "      <td>43.745906</td>\n",
       "      <td>-79.352188</td>\n",
       "    </tr>\n",
       "    <tr>\n",
       "      <th>8</th>\n",
       "      <td>M4B</td>\n",
       "      <td>East York</td>\n",
       "      <td>Parkview Hill, Woodbine Gardens</td>\n",
       "      <td>43.706397</td>\n",
       "      <td>-79.309937</td>\n",
       "    </tr>\n",
       "    <tr>\n",
       "      <th>9</th>\n",
       "      <td>M5B</td>\n",
       "      <td>Downtown Toronto</td>\n",
       "      <td>Garden District, Ryerson</td>\n",
       "      <td>43.657162</td>\n",
       "      <td>-79.378937</td>\n",
       "    </tr>\n",
       "  </tbody>\n",
       "</table>\n",
       "</div>"
      ],
      "text/plain": [
       "  Postal Code           Borough                                Neighboorhood  \\\n",
       "0         M3A        North York                                    Parkwoods   \n",
       "1         M4A        North York                             Victoria Village   \n",
       "2         M5A  Downtown Toronto                    Regent Park, Harbourfront   \n",
       "3         M6A        North York             Lawrence Manor, Lawrence Heights   \n",
       "4         M7A  Downtown Toronto  Queen's Park, Ontario Provincial Government   \n",
       "5         M9A         Etobicoke      Islington Avenue, Humber Valley Village   \n",
       "6         M1B       Scarborough                               Malvern, Rouge   \n",
       "7         M3B        North York                                    Don Mills   \n",
       "8         M4B         East York              Parkview Hill, Woodbine Gardens   \n",
       "9         M5B  Downtown Toronto                     Garden District, Ryerson   \n",
       "\n",
       "    Latitude  Longitude  \n",
       "0  43.753259 -79.329656  \n",
       "1  43.725882 -79.315572  \n",
       "2  43.654260 -79.360636  \n",
       "3  43.718518 -79.464763  \n",
       "4  43.662301 -79.389494  \n",
       "5  43.667856 -79.532242  \n",
       "6  43.806686 -79.194353  \n",
       "7  43.745906 -79.352188  \n",
       "8  43.706397 -79.309937  \n",
       "9  43.657162 -79.378937  "
      ]
     },
     "execution_count": 36,
     "metadata": {},
     "output_type": "execute_result"
    }
   ],
   "source": [
    "df_ll.head(10)"
   ]
  },
  {
   "cell_type": "markdown",
   "metadata": {},
   "source": [
    "Use geopy ti get the latitude and longitude of toronto city "
   ]
  },
  {
   "cell_type": "code",
   "execution_count": 58,
   "metadata": {},
   "outputs": [],
   "source": [
    "from geopy.geocoders import Nominatim \n",
    "import re\n",
    "import folium"
   ]
  },
  {
   "cell_type": "code",
   "execution_count": 54,
   "metadata": {},
   "outputs": [
    {
     "name": "stdout",
     "output_type": "stream",
     "text": [
      "The geograpical coordinate of New York City are 43.6534817, -79.3839347.\n"
     ]
    }
   ],
   "source": [
    "address = 'Toronto, CA'\n",
    "\n",
    "geolocator = Nominatim(user_agent=\"ca_explorer\")\n",
    "location = geolocator.geocode(address)\n",
    "latitude = location.latitude\n",
    "longitude = location.longitude\n",
    "print('The geograpical coordinate of New York City are {}, {}.'.format(latitude, longitude))"
   ]
  },
  {
   "cell_type": "markdown",
   "metadata": {},
   "source": [
    "getting only boroughs containing the name Toronto"
   ]
  },
  {
   "cell_type": "code",
   "execution_count": 56,
   "metadata": {},
   "outputs": [
    {
     "data": {
      "text/plain": [
       "(39, 5)"
      ]
     },
     "execution_count": 56,
     "metadata": {},
     "output_type": "execute_result"
    }
   ],
   "source": [
    "toronto_data = df_ll[df_ll['Borough'].str.contains('Toronto',flags=re.IGNORECASE, regex=True)].reset_index(drop=True)\n",
    "toronto_data.shape"
   ]
  },
  {
   "cell_type": "markdown",
   "metadata": {},
   "source": [
    "explore toronto neighboorhood"
   ]
  },
  {
   "cell_type": "code",
   "execution_count": 63,
   "metadata": {
    "scrolled": true
   },
   "outputs": [
    {
     "data": {
      "text/html": [
       "<div style=\"width:100%;\"><div style=\"position:relative;width:100%;height:0;padding-bottom:60%;\"><span style=\"color:#565656\">Make this Notebook Trusted to load map: File -> Trust Notebook</span><iframe src=\"about:blank\" style=\"position:absolute;width:100%;height:100%;left:0;top:0;border:none !important;\" data-html=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 onload=\"this.contentDocument.open();this.contentDocument.write(atob(this.getAttribute('data-html')));this.contentDocument.close();\" allowfullscreen webkitallowfullscreen mozallowfullscreen></iframe></div></div>"
      ],
      "text/plain": [
       "<folium.folium.Map at 0x1228ae978>"
      ]
     },
     "execution_count": 63,
     "metadata": {},
     "output_type": "execute_result"
    }
   ],
   "source": [
    "map_toronto = folium.Map(location=[latitude, longitude], zoom_start=11)\n",
    "\n",
    "# add markers to map\n",
    "for lat, lng, label,categorie, in zip(toronto_data['Latitude'], toronto_data['Longitude'],\n",
    "                                      toronto_data['Neighboorhood'],toronto_data):\n",
    "    label = folium.Popup(label, parse_html=True)\n",
    "    folium.CircleMarker(\n",
    "        [lat, lng],\n",
    "        radius=5,\n",
    "        popup=label,\n",
    "        color='blue',\n",
    "        fill=True,\n",
    "        fill_color='#3186cc',\n",
    "        fill_opacity=0.7,\n",
    "        parse_html=False).add_to(map_toronto)  \n",
    "    \n",
    "map_toronto"
   ]
  },
  {
   "cell_type": "code",
   "execution_count": null,
   "metadata": {},
   "outputs": [],
   "source": []
  }
 ],
 "metadata": {
  "kernelspec": {
   "display_name": "Python 3",
   "language": "python",
   "name": "python3"
  },
  "language_info": {
   "codemirror_mode": {
    "name": "ipython",
    "version": 3
   },
   "file_extension": ".py",
   "mimetype": "text/x-python",
   "name": "python",
   "nbconvert_exporter": "python",
   "pygments_lexer": "ipython3",
   "version": "3.7.2"
  }
 },
 "nbformat": 4,
 "nbformat_minor": 2
}
