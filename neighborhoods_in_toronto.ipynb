{
 "cells": [
  {
   "cell_type": "markdown",
   "metadata": {},
   "source": [
    "# Neighborhoods in Toronto Project\n",
    "### import library"
   ]
  },
  {
   "cell_type": "code",
   "execution_count": 1,
   "metadata": {},
   "outputs": [],
   "source": [
    "import pandas as pd\n",
    "import numpy as np \n",
    "import urllib.request\n",
    "from bs4 import BeautifulSoup"
   ]
  },
  {
   "cell_type": "markdown",
   "metadata": {},
   "source": [
    "### Retrieve toronto postal code data"
   ]
  },
  {
   "cell_type": "markdown",
   "metadata": {},
   "source": [
    "open url with urllib and getting transforming data with beautiful soup"
   ]
  },
  {
   "cell_type": "code",
   "execution_count": 2,
   "metadata": {},
   "outputs": [],
   "source": [
    "url = \"https://en.wikipedia.org/wiki/List_of_postal_codes_of_Canada:_M\"\n",
    "page = urllib.request.urlopen(url)"
   ]
  },
  {
   "cell_type": "code",
   "execution_count": 3,
   "metadata": {},
   "outputs": [],
   "source": [
    "soup = BeautifulSoup(page,\"html\")"
   ]
  },
  {
   "cell_type": "markdown",
   "metadata": {},
   "source": [
    "making a fonction for transforming td html content to a clean text"
   ]
  },
  {
   "cell_type": "code",
   "execution_count": 4,
   "metadata": {},
   "outputs": [],
   "source": [
    "def normalize_text(text):\n",
    "    return text.find(text=True).replace(\"\\n\",\"\").strip()"
   ]
  },
  {
   "cell_type": "markdown",
   "metadata": {},
   "source": [
    "1. define a dictionnary that will content all data\n",
    "2. find data from html table\n",
    "3. add data into the dictionnary depending on criteria"
   ]
  },
  {
   "cell_type": "code",
   "execution_count": 5,
   "metadata": {},
   "outputs": [],
   "source": [
    "data = {'postal_code': [], 'Borough': [], 'Neighborhood': []}\n",
    "table=soup.find('table', class_='wikitable sortable')\n",
    "for row in table.findAll(\"tr\"):\n",
    "    cells=row.findAll('td')\n",
    "    if len(cells)==3:\n",
    "        postal_code = normalize_text(cells[0]) \n",
    "        borough = normalize_text(cells[1])\n",
    "        neigh  = normalize_text(cells[2])\n",
    "        if borough.lower() != 'not assigned':\n",
    "            if neigh.lower() == 'not assigned':\n",
    "                neigh = borough\n",
    "            if postal_code not in data[\"postal_code\"]:\n",
    "                data[\"postal_code\"].append(postal_code)\n",
    "                data[\"Borough\"].append(borough)\n",
    "                data[\"Neighborhood\"].append(neigh)\n",
    "            else:\n",
    "                index = data[\"postal_code\"].index(postal_code)\n",
    "                data[\"Neighborhood\"][index] = \"{},{}\".format(data[\"Neighborhood\"][index],neigh)"
   ]
  },
  {
   "cell_type": "markdown",
   "metadata": {},
   "source": [
    "transform data into dataframe and print the result"
   ]
  },
  {
   "cell_type": "code",
   "execution_count": 6,
   "metadata": {},
   "outputs": [
    {
     "data": {
      "text/html": [
       "<div>\n",
       "<style scoped>\n",
       "    .dataframe tbody tr th:only-of-type {\n",
       "        vertical-align: middle;\n",
       "    }\n",
       "\n",
       "    .dataframe tbody tr th {\n",
       "        vertical-align: top;\n",
       "    }\n",
       "\n",
       "    .dataframe thead th {\n",
       "        text-align: right;\n",
       "    }\n",
       "</style>\n",
       "<table border=\"1\" class=\"dataframe\">\n",
       "  <thead>\n",
       "    <tr style=\"text-align: right;\">\n",
       "      <th></th>\n",
       "      <th>Postal Code</th>\n",
       "      <th>Borough</th>\n",
       "      <th>Neighboorhood</th>\n",
       "    </tr>\n",
       "  </thead>\n",
       "  <tbody>\n",
       "    <tr>\n",
       "      <th>0</th>\n",
       "      <td>M3A</td>\n",
       "      <td>North York</td>\n",
       "      <td>Parkwoods</td>\n",
       "    </tr>\n",
       "    <tr>\n",
       "      <th>1</th>\n",
       "      <td>M4A</td>\n",
       "      <td>North York</td>\n",
       "      <td>Victoria Village</td>\n",
       "    </tr>\n",
       "    <tr>\n",
       "      <th>2</th>\n",
       "      <td>M5A</td>\n",
       "      <td>Downtown Toronto</td>\n",
       "      <td>Regent Park, Harbourfront</td>\n",
       "    </tr>\n",
       "    <tr>\n",
       "      <th>3</th>\n",
       "      <td>M6A</td>\n",
       "      <td>North York</td>\n",
       "      <td>Lawrence Manor, Lawrence Heights</td>\n",
       "    </tr>\n",
       "    <tr>\n",
       "      <th>4</th>\n",
       "      <td>M7A</td>\n",
       "      <td>Downtown Toronto</td>\n",
       "      <td>Queen's Park, Ontario Provincial Government</td>\n",
       "    </tr>\n",
       "  </tbody>\n",
       "</table>\n",
       "</div>"
      ],
      "text/plain": [
       "  Postal Code           Borough                                Neighboorhood\n",
       "0         M3A        North York                                    Parkwoods\n",
       "1         M4A        North York                             Victoria Village\n",
       "2         M5A  Downtown Toronto                    Regent Park, Harbourfront\n",
       "3         M6A        North York             Lawrence Manor, Lawrence Heights\n",
       "4         M7A  Downtown Toronto  Queen's Park, Ontario Provincial Government"
      ]
     },
     "execution_count": 6,
     "metadata": {},
     "output_type": "execute_result"
    }
   ],
   "source": [
    "df = pd.DataFrame(data['postal_code'], columns=['Postal Code'])\n",
    "df['Borough'] = data['Borough']\n",
    "df['Neighboorhood'] = data['Neighborhood']\n",
    "df.head()"
   ]
  },
  {
   "cell_type": "code",
   "execution_count": 7,
   "metadata": {},
   "outputs": [
    {
     "data": {
      "text/plain": [
       "(103, 3)"
      ]
     },
     "execution_count": 7,
     "metadata": {},
     "output_type": "execute_result"
    }
   ],
   "source": [
    "df.shape"
   ]
  },
  {
   "cell_type": "code",
   "execution_count": 24,
   "metadata": {},
   "outputs": [],
   "source": [
    "geo_df = pd.read_csv(\"Geospatial_Coordinates.csv\")"
   ]
  },
  {
   "cell_type": "code",
   "execution_count": 39,
   "metadata": {},
   "outputs": [
    {
     "data": {
      "text/plain": [
       "(103, 3)"
      ]
     },
     "execution_count": 39,
     "metadata": {},
     "output_type": "execute_result"
    }
   ],
   "source": [
    "geo_df.shape"
   ]
  },
  {
   "cell_type": "code",
   "execution_count": 34,
   "metadata": {},
   "outputs": [],
   "source": [
    "df_ll = pd.merge(df,geo_df,on='Postal Code')"
   ]
  },
  {
   "cell_type": "code",
   "execution_count": 36,
   "metadata": {},
   "outputs": [
    {
     "data": {
      "text/html": [
       "<div>\n",
       "<style scoped>\n",
       "    .dataframe tbody tr th:only-of-type {\n",
       "        vertical-align: middle;\n",
       "    }\n",
       "\n",
       "    .dataframe tbody tr th {\n",
       "        vertical-align: top;\n",
       "    }\n",
       "\n",
       "    .dataframe thead th {\n",
       "        text-align: right;\n",
       "    }\n",
       "</style>\n",
       "<table border=\"1\" class=\"dataframe\">\n",
       "  <thead>\n",
       "    <tr style=\"text-align: right;\">\n",
       "      <th></th>\n",
       "      <th>Postal Code</th>\n",
       "      <th>Borough</th>\n",
       "      <th>Neighboorhood</th>\n",
       "      <th>Latitude</th>\n",
       "      <th>Longitude</th>\n",
       "    </tr>\n",
       "  </thead>\n",
       "  <tbody>\n",
       "    <tr>\n",
       "      <th>0</th>\n",
       "      <td>M3A</td>\n",
       "      <td>North York</td>\n",
       "      <td>Parkwoods</td>\n",
       "      <td>43.753259</td>\n",
       "      <td>-79.329656</td>\n",
       "    </tr>\n",
       "    <tr>\n",
       "      <th>1</th>\n",
       "      <td>M4A</td>\n",
       "      <td>North York</td>\n",
       "      <td>Victoria Village</td>\n",
       "      <td>43.725882</td>\n",
       "      <td>-79.315572</td>\n",
       "    </tr>\n",
       "    <tr>\n",
       "      <th>2</th>\n",
       "      <td>M5A</td>\n",
       "      <td>Downtown Toronto</td>\n",
       "      <td>Regent Park, Harbourfront</td>\n",
       "      <td>43.654260</td>\n",
       "      <td>-79.360636</td>\n",
       "    </tr>\n",
       "    <tr>\n",
       "      <th>3</th>\n",
       "      <td>M6A</td>\n",
       "      <td>North York</td>\n",
       "      <td>Lawrence Manor, Lawrence Heights</td>\n",
       "      <td>43.718518</td>\n",
       "      <td>-79.464763</td>\n",
       "    </tr>\n",
       "    <tr>\n",
       "      <th>4</th>\n",
       "      <td>M7A</td>\n",
       "      <td>Downtown Toronto</td>\n",
       "      <td>Queen's Park, Ontario Provincial Government</td>\n",
       "      <td>43.662301</td>\n",
       "      <td>-79.389494</td>\n",
       "    </tr>\n",
       "    <tr>\n",
       "      <th>5</th>\n",
       "      <td>M9A</td>\n",
       "      <td>Etobicoke</td>\n",
       "      <td>Islington Avenue, Humber Valley Village</td>\n",
       "      <td>43.667856</td>\n",
       "      <td>-79.532242</td>\n",
       "    </tr>\n",
       "    <tr>\n",
       "      <th>6</th>\n",
       "      <td>M1B</td>\n",
       "      <td>Scarborough</td>\n",
       "      <td>Malvern, Rouge</td>\n",
       "      <td>43.806686</td>\n",
       "      <td>-79.194353</td>\n",
       "    </tr>\n",
       "    <tr>\n",
       "      <th>7</th>\n",
       "      <td>M3B</td>\n",
       "      <td>North York</td>\n",
       "      <td>Don Mills</td>\n",
       "      <td>43.745906</td>\n",
       "      <td>-79.352188</td>\n",
       "    </tr>\n",
       "    <tr>\n",
       "      <th>8</th>\n",
       "      <td>M4B</td>\n",
       "      <td>East York</td>\n",
       "      <td>Parkview Hill, Woodbine Gardens</td>\n",
       "      <td>43.706397</td>\n",
       "      <td>-79.309937</td>\n",
       "    </tr>\n",
       "    <tr>\n",
       "      <th>9</th>\n",
       "      <td>M5B</td>\n",
       "      <td>Downtown Toronto</td>\n",
       "      <td>Garden District, Ryerson</td>\n",
       "      <td>43.657162</td>\n",
       "      <td>-79.378937</td>\n",
       "    </tr>\n",
       "  </tbody>\n",
       "</table>\n",
       "</div>"
      ],
      "text/plain": [
       "  Postal Code           Borough                                Neighboorhood  \\\n",
       "0         M3A        North York                                    Parkwoods   \n",
       "1         M4A        North York                             Victoria Village   \n",
       "2         M5A  Downtown Toronto                    Regent Park, Harbourfront   \n",
       "3         M6A        North York             Lawrence Manor, Lawrence Heights   \n",
       "4         M7A  Downtown Toronto  Queen's Park, Ontario Provincial Government   \n",
       "5         M9A         Etobicoke      Islington Avenue, Humber Valley Village   \n",
       "6         M1B       Scarborough                               Malvern, Rouge   \n",
       "7         M3B        North York                                    Don Mills   \n",
       "8         M4B         East York              Parkview Hill, Woodbine Gardens   \n",
       "9         M5B  Downtown Toronto                     Garden District, Ryerson   \n",
       "\n",
       "    Latitude  Longitude  \n",
       "0  43.753259 -79.329656  \n",
       "1  43.725882 -79.315572  \n",
       "2  43.654260 -79.360636  \n",
       "3  43.718518 -79.464763  \n",
       "4  43.662301 -79.389494  \n",
       "5  43.667856 -79.532242  \n",
       "6  43.806686 -79.194353  \n",
       "7  43.745906 -79.352188  \n",
       "8  43.706397 -79.309937  \n",
       "9  43.657162 -79.378937  "
      ]
     },
     "execution_count": 36,
     "metadata": {},
     "output_type": "execute_result"
    }
   ],
   "source": [
    "df_ll.head(10)"
   ]
  },
  {
   "cell_type": "markdown",
   "metadata": {},
   "source": [
    "Use geopy ti get the latitude and longitude of toronto city "
   ]
  },
  {
   "cell_type": "code",
   "execution_count": 58,
   "metadata": {},
   "outputs": [],
   "source": [
    "from geopy.geocoders import Nominatim \n",
    "import re\n",
    "import folium"
   ]
  },
  {
   "cell_type": "code",
   "execution_count": 54,
   "metadata": {},
   "outputs": [
    {
     "name": "stdout",
     "output_type": "stream",
     "text": [
      "The geograpical coordinate of New York City are 43.6534817, -79.3839347.\n"
     ]
    }
   ],
   "source": [
    "address = 'Toronto, CA'\n",
    "\n",
    "geolocator = Nominatim(user_agent=\"ca_explorer\")\n",
    "location = geolocator.geocode(address)\n",
    "latitude = location.latitude\n",
    "longitude = location.longitude\n",
    "print('The geograpical coordinate of New York City are {}, {}.'.format(latitude, longitude))"
   ]
  },
  {
   "cell_type": "markdown",
   "metadata": {},
   "source": [
    "getting only boroughs containing the name Toronto"
   ]
  },
  {
   "cell_type": "code",
   "execution_count": 56,
   "metadata": {},
   "outputs": [
    {
     "data": {
      "text/plain": [
       "(39, 5)"
      ]
     },
     "execution_count": 56,
     "metadata": {},
     "output_type": "execute_result"
    }
   ],
   "source": [
    "toronto_data = df_ll[df_ll['Borough'].str.contains('Toronto',flags=re.IGNORECASE, regex=True)].reset_index(drop=True)\n",
    "toronto_data.shape"
   ]
  },
  {
   "cell_type": "markdown",
   "metadata": {},
   "source": [
    "explore toronto neighboorhood"
   ]
  },
  {
   "cell_type": "code",
   "execution_count": 61,
   "metadata": {
    "scrolled": true
   },
   "outputs": [
    {
     "data": {
      "text/html": [
       "<div style=\"width:100%;\"><div style=\"position:relative;width:100%;height:0;padding-bottom:60%;\"><span style=\"color:#565656\">Make this Notebook Trusted to load map: File -> Trust Notebook</span><iframe src=\"about:blank\" style=\"position:absolute;width:100%;height:100%;left:0;top:0;border:none !important;\" data-html=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 onload=\"this.contentDocument.open();this.contentDocument.write(atob(this.getAttribute('data-html')));this.contentDocument.close();\" allowfullscreen webkitallowfullscreen mozallowfullscreen></iframe></div></div>"
      ],
      "text/plain": [
       "<folium.folium.Map at 0x1227cd550>"
      ]
     },
     "execution_count": 61,
     "metadata": {},
     "output_type": "execute_result"
    }
   ],
   "source": [
    "map_toronto = folium.Map(location=[latitude, longitude], zoom_start=11)\n",
    "\n",
    "# add markers to map\n",
    "for lat, lng, label in zip(toronto_data['Latitude'], toronto_data['Longitude'], toronto_data['Neighboorhood']):\n",
    "    label = folium.Popup(label, parse_html=True)\n",
    "    folium.CircleMarker(\n",
    "        [lat, lng],\n",
    "        radius=5,\n",
    "        popup=label,\n",
    "        color='blue',\n",
    "        fill=True,\n",
    "        fill_color='#3186cc',\n",
    "        fill_opacity=0.7,\n",
    "        parse_html=False).add_to(map_toronto)  \n",
    "    \n",
    "map_toronto"
   ]
  },
  {
   "cell_type": "code",
   "execution_count": null,
   "metadata": {},
   "outputs": [],
   "source": []
  }
 ],
 "metadata": {
  "kernelspec": {
   "display_name": "Python 3",
   "language": "python",
   "name": "python3"
  },
  "language_info": {
   "codemirror_mode": {
    "name": "ipython",
    "version": 3
   },
   "file_extension": ".py",
   "mimetype": "text/x-python",
   "name": "python",
   "nbconvert_exporter": "python",
   "pygments_lexer": "ipython3",
   "version": "3.7.2"
  }
 },
 "nbformat": 4,
 "nbformat_minor": 2
}
